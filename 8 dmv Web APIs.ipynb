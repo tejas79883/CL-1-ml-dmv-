{
 "cells": [
  {
   "cell_type": "code",
   "execution_count": null,
   "id": "cac830bb-9a47-433c-ad78-b3a4fb995410",
   "metadata": {},
   "outputs": [],
   "source": [
    "pip install folium"
   ]
  },
  {
   "cell_type": "code",
   "execution_count": null,
   "id": "61911992-8890-4a05-9647-9d92e5301e97",
   "metadata": {},
   "outputs": [],
   "source": [
    "import requests\n",
    " import pandas as pd\n",
    " import matplotlib.pyplot as plt\n",
    " import folium"
   ]
  },
  {
   "cell_type": "code",
   "execution_count": null,
   "id": "acf0fe96-ac77-439c-9158-d2221004a83f",
   "metadata": {},
   "outputs": [],
   "source": [
    "# Step 1: Register and obtain API key from OpenWeatherMap\n",
    " api_key = \"fb365aa6104829b44455572365ff3b4e\""
   ]
  },
  {
   "cell_type": "code",
   "execution_count": null,
   "id": "14fb60ae-4de0-48cb-933a-b547559792bc",
   "metadata": {},
   "outputs": [],
   "source": [
    "# Step 2: Interact with the OpenWeatherMap API\n",
    " base_url = \"http://api.openweathermap.org/data/2.5/forecast\"\n",
    " city_name = \"New York\"\n",
    " params = {\n",
    " \"q\": city_name,\n",
    " \"appid\": api_key,\n",
    " \"units\": \"metric\"\n",
    " }\n",
    " response = requests.get(base_url, params=params)\n",
    " data = response.json()"
   ]
  },
  {
   "cell_type": "code",
   "execution_count": null,
   "id": "c0910fda-571f-4ff4-88c9-296b45eb0e12",
   "metadata": {},
   "outputs": [],
   "source": [
    "response"
   ]
  },
  {
   "cell_type": "code",
   "execution_count": null,
   "id": "836d421e-9089-48c7-95a0-82b240cb4007",
   "metadata": {},
   "outputs": [],
   "source": [
    "data"
   ]
  },
  {
   "cell_type": "code",
   "execution_count": null,
   "id": "a34af15e-13cb-49e5-ab3e-12863b147bfd",
   "metadata": {},
   "outputs": [],
   "source": [
    "# Convert timestamps to pandas datetime objects\n",
    "datetime_objects = [pd.to_datetime(timestamp, unit=\"s\") for timestamp in timestamps\n"
   ]
  },
  {
   "cell_type": "code",
   "execution_count": null,
   "id": "3982d541-be8a-4d4f-9127-6d5df46f9add",
   "metadata": {},
   "outputs": [],
   "source": [
    "# Create a pandas DataFrame with the extracted weather data\n",
    " weather_df = pd.DataFrame({\n",
    " 'Timestamp': timestamps,\n",
    " \"Datetime\": datetime_objects,\n",
    " 'Temperature': temperatures,\n",
    " 'humidity': humidity,\n",
    " 'wind_speed': wind_speed,\n",
    " 'weather_description': weather_description,\n",
    " })"
   ]
  },
  {
   "cell_type": "code",
   "execution_count": null,
   "id": "844fc7db-beaa-4117-82be-c04f0aa76b89",
   "metadata": {},
   "outputs": [],
   "source": [
    "# Convert the \"Datetime\" column to a DatetimeIndex\n",
    " weather_df.set_index(\"Datetime\", inplace=True)"
   ]
  },
  {
   "cell_type": "code",
   "execution_count": null,
   "id": "e436278a-315a-423d-be2d-94d15f16f2f6",
   "metadata": {},
   "outputs": [],
   "source": [
    "weather_df"
   ]
  },
  {
   "cell_type": "code",
   "execution_count": null,
   "id": "a5285936-6122-4681-bf79-0f0bc5c3b122",
   "metadata": {},
   "outputs": [],
   "source": [
    "# Calculate total precipitation (rain + snow) for each entry\n",
    " precipitation = []\n",
    " for entry in weather_data:\n",
    "    rain = entry.get(\"rain\", {}).get(\"3h\", 0)\n",
    "    snow = entry.get(\"snow\", {}).get(\"3h\", 0)\n",
    "    total_precipitation = rain + snow\n",
    "    precipitation.append(total_precipitation)"
   ]
  },
  {
   "cell_type": "code",
   "execution_count": null,
   "id": "5031519e-ff40-4fc0-a8c7-3f985d957fac",
   "metadata": {},
   "outputs": [],
   "source": [
    "precipitation"
   ]
  },
  {
   "cell_type": "code",
   "execution_count": null,
   "id": "86abea92-7dde-46d2-b04e-732084d980fc",
   "metadata": {},
   "outputs": [],
   "source": [
    "# Step 5: Perform data modeling\n",
    " avg_temp = sum(temperatures) / len(temperatures)\n",
    " avg_temp"
   ]
  },
  {
   "cell_type": "code",
   "execution_count": null,
   "id": "bd46a8f5-d459-4798-8d55-2160779fddce",
   "metadata": {},
   "outputs": [],
   "source": [
    " max_temp = max(temperatures)\n",
    " max_temp"
   ]
  },
  {
   "cell_type": "code",
   "execution_count": null,
   "id": "6d9b9345-6459-4b84-be02-262269d2c5d0",
   "metadata": {},
   "outputs": [],
   "source": [
    " min_temp = min(temperatures)\n",
    " min_temp"
   ]
  },
  {
   "cell_type": "code",
   "execution_count": null,
   "id": "cc7d9f64-f78e-4c9c-acf7-0a6b21b65dc1",
   "metadata": {},
   "outputs": [],
   "source": [
    " import matplotlib.pyplot as plt\n",
    " daily_mean_temp = weather_df['Temperature'].resample('D').mean()\n",
    " daily_mean_humidity = weather_df['humidity'].resample('D').mean()\n",
    " daily_mean_wind_speed = weather_df['wind_speed'].resample('D').mean()"
   ]
  },
  {
   "cell_type": "code",
   "execution_count": null,
   "id": "fea13e5e-dcd3-418a-92ae-3cf4462d9464",
   "metadata": {},
   "outputs": [],
   "source": [
    "# Plot the mean daily temperature over time (Line plot)\n",
    " plt.figure(figsize=(10, 6))\n",
    " daily_mean_temp.plot(color='red', linestyle='-', marker='o')\n",
    " plt.title('Mean Daily Temperature')\n",
    " plt.xlabel('Date')\n",
    " plt.ylabel('Temperature (°C)')\n",
    " plt.grid(True)\n",
    " plt.show()"
   ]
  },
  {
   "cell_type": "code",
   "execution_count": null,
   "id": "921faf09-36e6-4d3d-872b-f29ddc025ad0",
   "metadata": {},
   "outputs": [],
   "source": [
    "# Plot the mean daily humidity over time (Bar plot)\n",
    " plt.figure(figsize=(10, 6))\n",
    " daily_mean_humidity.plot(kind='bar', color='blue')\n",
    " plt.title('Mean Daily Humidity')\n",
    " plt.xlabel('Date')\n",
    " plt.ylabel('Humidity (%)')\n",
    " plt.grid(True)\n",
    " plt.show()"
   ]
  },
  {
   "cell_type": "code",
   "execution_count": null,
   "id": "c3068dfe-ffad-44fa-a1b9-04843af95000",
   "metadata": {},
   "outputs": [],
   "source": [
    "\n",
    " # Plot the relationship between temperature and wind speed (Scatter plot)\n",
    " plt.figure(figsize=(10, 6))\n",
    " plt.scatter(weather_df['Temperature'], weather_df['wind_speed'], color='green')\n",
    " plt.title('Temperature vs. Wind Speed')\n",
    " plt.xlabel('Temperature (°C)')\n",
    " plt.ylabel('Wind Speed (m/s)')\n",
    " plt.grid(True)\n",
    " plt.show()"
   ]
  },
  {
   "cell_type": "code",
   "execution_count": null,
   "id": "83864b2e-36fe-47c7-ace0-9effe6d7c042",
   "metadata": {},
   "outputs": [],
   "source": [
    "\n",
    " # Step 6: Visualize the weather data\n",
    " plt.figure(figsize=(10, 6))\n",
    " plt.plot(timestamps, temperatures, label=\"Temperature (°C)\")\n",
    " plt.plot(timestamps, precipitation, label=\"Precipitation\")\n",
    " plt.xlabel(\"Timestamp\")\n",
    " plt.ylabel(\"Value\")\n",
    " plt.title(\"Weather Data for {}\".format(city_name))\n",
    " plt.legend()\n",
    " plt.show()"
   ]
  },
  {
   "cell_type": "code",
   "execution_count": null,
   "id": "46be1bbf-fde4-4cdc-a889-977c31408f49",
   "metadata": {},
   "outputs": [],
   "source": [
    " import seaborn as sns\n",
    " heatmap_data = weather_df[['Temperature', 'humidity']]\n",
    " sns.heatmap(heatmap_data, annot=True, cmap='coolwarm')\n",
    " plt.title('Temperature vs Humidity Heatmap')\n",
    " plt.show()\n",
    " # Create a scatter plot to visualize the relationship between temperature and humid\n",
    " plt.scatter(weather_df['Temperature'], weather_df['humidity'])\n",
    " plt.xlabel('Temperature (°C)')\n",
    " plt.ylabel('Humidity (%)')\n",
    " plt.title('Temperature vs Humidity Scatter Plot')\n",
    " plt.show()"
   ]
  },
  {
   "cell_type": "code",
   "execution_count": null,
   "id": "efacb350-23be-4ddc-b2ed-f760cc4c7d0d",
   "metadata": {},
   "outputs": [],
   "source": [
    " # Assuming weather_data is a list of weather data entries\n",
    " # Accessing the attributes of the first entry\n",
    " import pandas as pd\n",
    " # Specify the locations for which you want to retrieve weather data\n",
    " locations = ['London', 'Paris', 'New York']\n",
    " # Create an empty DataFrame to store weather data\n",
    " weather_df = pd.DataFrame()\n",
    " # Retrieve weather data for each location\n",
    " for location in locations:\n",
    "    # Construct the API URL\n",
    "    api_url = f'http://api.openweathermap.org/data/2.5/weather?q={location}&appid={}\n",
    "   \n",
    "    # Make the API request\n",
    "    response = requests.get(api_url)\n",
    "    data = response.json()\n",
    "   \n",
    "    # Extract relevant weather attributes\n",
    "    temperature = data['main']['temp']\n",
    "    humidity = data['main']['humidity']\n",
    "    wind_speed = data['wind']['speed']\n",
    "    \n",
    "    # Check if 'coord' key is present before accessing it\n",
    "    latitude = data.get('coord', {}).get('lat', None)\n",
    "    longitude = data.get('coord', {}).get('lon', None)\n",
    "    \n",
    "    # Create a DataFrame for the current location's weather data\n",
    "    location_df = pd.DataFrame({\n",
    "        'Location': [location],\n",
    "        'Temperature': [temperature],\n",
    "        'Humidity': [humidity],\n",
    "        'Wind Speed': [wind_speed],\n",
    "        'Latitude': [latitude],\n",
    "        'Longitude': [longitude]\n",
    "    })\n",
    "# Append the current location's weather data to the main DataFrame\n",
    "    weather_df = weather_df.append(location_df, ignore_index=True)"
   ]
  },
  {
   "cell_type": "code",
   "execution_count": null,
   "id": "3644515f-cd28-4069-8ebf-226c1430447d",
   "metadata": {},
   "outputs": [],
   "source": [
    " weather_df"
   ]
  },
  {
   "cell_type": "code",
   "execution_count": null,
   "id": "d1077a08-662e-429b-b271-bab2f4e85dbb",
   "metadata": {},
   "outputs": [],
   "source": [
    " # Step 8: Incorporate geographical information\n",
    " # (Geospatial visualization requires additional libraries like Folium)\n",
    " # Extract latitude and longitude from the current weather data\n",
    " latitude = data.get(\"coord\", {}).get(\"lat\", 0)\n",
    " longitude = data.get(\"coord\", {}).get(\"lon\", 0)\n",
    " # Create a Folium map centered around the city\n",
    " weather_map = folium.Map(location=[latitude, longitude], zoom_start=10)\n",
    " # Add markers for each location in the DataFrame\n",
    " for index, row in weather_df.iterrows():\n",
    " location_name = row['Location']\n",
    " latitude = row['Latitude']\n",
    " longitude = row['Longitude']\n",
    "\n",
    " \n",
    " # Create a marker and add it to the map\n",
    " folium.Marker([latitude, longitude], popup=location_name).add_to(weather_map)"
   ]
  },
  {
   "cell_type": "code",
   "execution_count": null,
   "id": "2a2e3153-9389-4f49-8d2a-5477a5d6a4c6",
   "metadata": {},
   "outputs": [],
   "source": [
    "weather_map"
   ]
  },
  {
   "cell_type": "code",
   "execution_count": null,
   "id": "41b87654-5035-4def-8f52-60c80506a40b",
   "metadata": {},
   "outputs": [],
   "source": [
    "# Add a marker for the city's location\n",
    " folium.Marker([latitude, longitude], popup=city_name).add_to(weather_map)\n",
    " # Display the map\n",
    " weather_map.save(\"weather_map.html\")"
   ]
  }
 ],
 "metadata": {
  "kernelspec": {
   "display_name": "Python 3 (ipykernel)",
   "language": "python",
   "name": "python3"
  },
  "language_info": {
   "codemirror_mode": {
    "name": "ipython",
    "version": 3
   },
   "file_extension": ".py",
   "mimetype": "text/x-python",
   "name": "python",
   "nbconvert_exporter": "python",
   "pygments_lexer": "ipython3",
   "version": "3.12.4"
  }
 },
 "nbformat": 4,
 "nbformat_minor": 5
}
