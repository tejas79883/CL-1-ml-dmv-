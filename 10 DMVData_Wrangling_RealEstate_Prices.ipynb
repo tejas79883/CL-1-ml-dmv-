{
 "cells": [
  {
   "cell_type": "code",
   "execution_count": 1,
   "id": "77f66a43-75b7-454c-93aa-183e7b3d2aae",
   "metadata": {},
   "outputs": [
    {
     "ename": "IndentationError",
     "evalue": "unexpected indent (3442765666.py, line 2)",
     "output_type": "error",
     "traceback": [
      "\u001b[1;36m  Cell \u001b[1;32mIn[1], line 2\u001b[1;36m\u001b[0m\n\u001b[1;33m    import numpy as np\u001b[0m\n\u001b[1;37m    ^\u001b[0m\n\u001b[1;31mIndentationError\u001b[0m\u001b[1;31m:\u001b[0m unexpected indent\n"
     ]
    }
   ],
   "source": [
    "import pandas as pd\n",
    " import numpy as np\n",
    " from matplotlib import pyplot as plt\n",
    " %matplotlib inline\n",
    " import matplotlib\n",
    " matplotlib.rcParams[\"figure.figsize\"] = (20,10)"
   ]
  },
  {
   "cell_type": "code",
   "execution_count": 3,
   "id": "e7b8e0e3-eecb-487c-a1d4-5b6ccda59d27",
   "metadata": {},
   "outputs": [
    {
     "ename": "IndentationError",
     "evalue": "unexpected indent (3908982225.py, line 2)",
     "output_type": "error",
     "traceback": [
      "\u001b[1;36m  Cell \u001b[1;32mIn[3], line 2\u001b[1;36m\u001b[0m\n\u001b[1;33m    df1.head()\u001b[0m\n\u001b[1;37m    ^\u001b[0m\n\u001b[1;31mIndentationError\u001b[0m\u001b[1;31m:\u001b[0m unexpected indent\n"
     ]
    }
   ],
   "source": [
    "df1 = pd.read_csv(\"/content/Bengaluru_House_Data.csv\")\n",
    " df1.head()"
   ]
  },
  {
   "cell_type": "code",
   "execution_count": 5,
   "id": "00fd5069-aec6-4260-a736-80f93fc2b381",
   "metadata": {},
   "outputs": [
    {
     "ename": "NameError",
     "evalue": "name 'df1' is not defined",
     "output_type": "error",
     "traceback": [
      "\u001b[1;31m---------------------------------------------------------------------------\u001b[0m",
      "\u001b[1;31mNameError\u001b[0m                                 Traceback (most recent call last)",
      "Cell \u001b[1;32mIn[5], line 1\u001b[0m\n\u001b[1;32m----> 1\u001b[0m df1\u001b[38;5;241m.\u001b[39mshape\n",
      "\u001b[1;31mNameError\u001b[0m: name 'df1' is not defined"
     ]
    }
   ],
   "source": [
    "df1.shape"
   ]
  },
  {
   "cell_type": "code",
   "execution_count": 7,
   "id": "8934cb53-63b2-406a-a857-17545614161c",
   "metadata": {},
   "outputs": [
    {
     "ename": "NameError",
     "evalue": "name 'df1' is not defined",
     "output_type": "error",
     "traceback": [
      "\u001b[1;31m---------------------------------------------------------------------------\u001b[0m",
      "\u001b[1;31mNameError\u001b[0m                                 Traceback (most recent call last)",
      "Cell \u001b[1;32mIn[7], line 1\u001b[0m\n\u001b[1;32m----> 1\u001b[0m df1\u001b[38;5;241m.\u001b[39mcolumns\n",
      "\u001b[1;31mNameError\u001b[0m: name 'df1' is not defined"
     ]
    }
   ],
   "source": [
    "df1.columns"
   ]
  },
  {
   "cell_type": "code",
   "execution_count": 9,
   "id": "38318a95-fd31-4dbe-a69f-c9fbda9dfafc",
   "metadata": {},
   "outputs": [
    {
     "ename": "NameError",
     "evalue": "name 'df1' is not defined",
     "output_type": "error",
     "traceback": [
      "\u001b[1;31m---------------------------------------------------------------------------\u001b[0m",
      "\u001b[1;31mNameError\u001b[0m                                 Traceback (most recent call last)",
      "Cell \u001b[1;32mIn[9], line 1\u001b[0m\n\u001b[1;32m----> 1\u001b[0m df1[\u001b[38;5;124m'\u001b[39m\u001b[38;5;124marea_type\u001b[39m\u001b[38;5;124m'\u001b[39m]\n",
      "\u001b[1;31mNameError\u001b[0m: name 'df1' is not defined"
     ]
    }
   ],
   "source": [
    "df1['area_type']"
   ]
  },
  {
   "cell_type": "code",
   "execution_count": 11,
   "id": "23f964ff-29f7-4638-8011-c372005da0e5",
   "metadata": {},
   "outputs": [
    {
     "ename": "NameError",
     "evalue": "name 'df1' is not defined",
     "output_type": "error",
     "traceback": [
      "\u001b[1;31m---------------------------------------------------------------------------\u001b[0m",
      "\u001b[1;31mNameError\u001b[0m                                 Traceback (most recent call last)",
      "Cell \u001b[1;32mIn[11], line 1\u001b[0m\n\u001b[1;32m----> 1\u001b[0m df1[\u001b[38;5;124m'\u001b[39m\u001b[38;5;124marea_type\u001b[39m\u001b[38;5;124m'\u001b[39m]\u001b[38;5;241m.\u001b[39munique()\n",
      "\u001b[1;31mNameError\u001b[0m: name 'df1' is not defined"
     ]
    }
   ],
   "source": [
    "df1['area_type'].unique()"
   ]
  },
  {
   "cell_type": "code",
   "execution_count": 13,
   "id": "30ae6206-9218-4f7f-851d-a82ce65ad524",
   "metadata": {},
   "outputs": [
    {
     "ename": "NameError",
     "evalue": "name 'df1' is not defined",
     "output_type": "error",
     "traceback": [
      "\u001b[1;31m---------------------------------------------------------------------------\u001b[0m",
      "\u001b[1;31mNameError\u001b[0m                                 Traceback (most recent call last)",
      "Cell \u001b[1;32mIn[13], line 1\u001b[0m\n\u001b[1;32m----> 1\u001b[0m df1[\u001b[38;5;124m'\u001b[39m\u001b[38;5;124marea_type\u001b[39m\u001b[38;5;124m'\u001b[39m]\u001b[38;5;241m.\u001b[39mvalue_counts()\n",
      "\u001b[1;31mNameError\u001b[0m: name 'df1' is not defined"
     ]
    }
   ],
   "source": [
    "df1['area_type'].value_counts()"
   ]
  },
  {
   "cell_type": "code",
   "execution_count": 15,
   "id": "0ee3dbe3-99b3-479b-8b23-377287a507c5",
   "metadata": {},
   "outputs": [
    {
     "ename": "IndentationError",
     "evalue": "unexpected indent (2230227733.py, line 2)",
     "output_type": "error",
     "traceback": [
      "\u001b[1;36m  Cell \u001b[1;32mIn[15], line 2\u001b[1;36m\u001b[0m\n\u001b[1;33m    df2.shape\u001b[0m\n\u001b[1;37m    ^\u001b[0m\n\u001b[1;31mIndentationError\u001b[0m\u001b[1;31m:\u001b[0m unexpected indent\n"
     ]
    }
   ],
   "source": [
    "df2 = df1.drop(['area_type','society','balcony','availability'],axis='columns')\n",
    " df2.shape"
   ]
  },
  {
   "cell_type": "code",
   "execution_count": 17,
   "id": "879effb7-44ae-4ab7-a75a-9327e34c87fd",
   "metadata": {},
   "outputs": [
    {
     "ename": "NameError",
     "evalue": "name 'df2' is not defined",
     "output_type": "error",
     "traceback": [
      "\u001b[1;31m---------------------------------------------------------------------------\u001b[0m",
      "\u001b[1;31mNameError\u001b[0m                                 Traceback (most recent call last)",
      "Cell \u001b[1;32mIn[17], line 1\u001b[0m\n\u001b[1;32m----> 1\u001b[0m df2\u001b[38;5;241m.\u001b[39misnull()\u001b[38;5;241m.\u001b[39msum()\n",
      "\u001b[1;31mNameError\u001b[0m: name 'df2' is not defined"
     ]
    }
   ],
   "source": [
    "df2.isnull().sum()"
   ]
  },
  {
   "cell_type": "code",
   "execution_count": 19,
   "id": "f4c492f5-7196-4269-b133-2ab7f3b43df7",
   "metadata": {},
   "outputs": [
    {
     "ename": "NameError",
     "evalue": "name 'df2' is not defined",
     "output_type": "error",
     "traceback": [
      "\u001b[1;31m---------------------------------------------------------------------------\u001b[0m",
      "\u001b[1;31mNameError\u001b[0m                                 Traceback (most recent call last)",
      "Cell \u001b[1;32mIn[19], line 1\u001b[0m\n\u001b[1;32m----> 1\u001b[0m df2\u001b[38;5;241m.\u001b[39mshape\n",
      "\u001b[1;31mNameError\u001b[0m: name 'df2' is not defined"
     ]
    }
   ],
   "source": [
    "df2.shape"
   ]
  },
  {
   "cell_type": "code",
   "execution_count": 21,
   "id": "08147b48-da85-445c-900a-857d1098558c",
   "metadata": {},
   "outputs": [
    {
     "ename": "IndentationError",
     "evalue": "unexpected indent (78127697.py, line 2)",
     "output_type": "error",
     "traceback": [
      "\u001b[1;36m  Cell \u001b[1;32mIn[21], line 2\u001b[1;36m\u001b[0m\n\u001b[1;33m    df3.isnull().sum()\u001b[0m\n\u001b[1;37m    ^\u001b[0m\n\u001b[1;31mIndentationError\u001b[0m\u001b[1;31m:\u001b[0m unexpected indent\n"
     ]
    }
   ],
   "source": [
    "df3 = df2.dropna()\n",
    " df3.isnull().sum()"
   ]
  },
  {
   "cell_type": "code",
   "execution_count": 23,
   "id": "507825c3-283a-4195-8c96-25c2c4f6c07d",
   "metadata": {},
   "outputs": [
    {
     "ename": "NameError",
     "evalue": "name 'df3' is not defined",
     "output_type": "error",
     "traceback": [
      "\u001b[1;31m---------------------------------------------------------------------------\u001b[0m",
      "\u001b[1;31mNameError\u001b[0m                                 Traceback (most recent call last)",
      "Cell \u001b[1;32mIn[23], line 1\u001b[0m\n\u001b[1;32m----> 1\u001b[0m df3\u001b[38;5;241m.\u001b[39mshape\n",
      "\u001b[1;31mNameError\u001b[0m: name 'df3' is not defined"
     ]
    }
   ],
   "source": [
    "df3.shape"
   ]
  },
  {
   "cell_type": "code",
   "execution_count": 25,
   "id": "60b4a863-6fd6-4141-961d-43b5b805cbeb",
   "metadata": {},
   "outputs": [
    {
     "ename": "NameError",
     "evalue": "name 'df3' is not defined",
     "output_type": "error",
     "traceback": [
      "\u001b[1;31m---------------------------------------------------------------------------\u001b[0m",
      "\u001b[1;31mNameError\u001b[0m                                 Traceback (most recent call last)",
      "Cell \u001b[1;32mIn[25], line 1\u001b[0m\n\u001b[1;32m----> 1\u001b[0m df3[\u001b[38;5;124m'\u001b[39m\u001b[38;5;124mbhk\u001b[39m\u001b[38;5;124m'\u001b[39m] \u001b[38;5;241m=\u001b[39m df3[\u001b[38;5;124m'\u001b[39m\u001b[38;5;124msize\u001b[39m\u001b[38;5;124m'\u001b[39m]\u001b[38;5;241m.\u001b[39mapply(\u001b[38;5;28;01mlambda\u001b[39;00m x: \u001b[38;5;28mint\u001b[39m(x\u001b[38;5;241m.\u001b[39msplit(\u001b[38;5;124m'\u001b[39m\u001b[38;5;124m \u001b[39m\u001b[38;5;124m'\u001b[39m)[\u001b[38;5;241m0\u001b[39m]))\n",
      "\u001b[1;31mNameError\u001b[0m: name 'df3' is not defined"
     ]
    }
   ],
   "source": [
    "df3['bhk'] = df3['size'].apply(lambda x: int(x.split(' ')[0]))"
   ]
  },
  {
   "cell_type": "code",
   "execution_count": 27,
   "id": "53f1ff3f-4e67-416b-97e9-e55c9110245f",
   "metadata": {},
   "outputs": [
    {
     "ename": "NameError",
     "evalue": "name 'df3' is not defined",
     "output_type": "error",
     "traceback": [
      "\u001b[1;31m---------------------------------------------------------------------------\u001b[0m",
      "\u001b[1;31mNameError\u001b[0m                                 Traceback (most recent call last)",
      "Cell \u001b[1;32mIn[27], line 1\u001b[0m\n\u001b[1;32m----> 1\u001b[0m df3\u001b[38;5;241m.\u001b[39mhead()\n",
      "\u001b[1;31mNameError\u001b[0m: name 'df3' is not defined"
     ]
    }
   ],
   "source": [
    "df3.head()"
   ]
  },
  {
   "cell_type": "code",
   "execution_count": 29,
   "id": "15d35ba0-7bac-4559-bd59-16076f0ef2ea",
   "metadata": {},
   "outputs": [
    {
     "ename": "NameError",
     "evalue": "name 'df3' is not defined",
     "output_type": "error",
     "traceback": [
      "\u001b[1;31m---------------------------------------------------------------------------\u001b[0m",
      "\u001b[1;31mNameError\u001b[0m                                 Traceback (most recent call last)",
      "Cell \u001b[1;32mIn[29], line 1\u001b[0m\n\u001b[1;32m----> 1\u001b[0m df3\u001b[38;5;241m.\u001b[39mbhk\u001b[38;5;241m.\u001b[39munique()\n",
      "\u001b[1;31mNameError\u001b[0m: name 'df3' is not defined"
     ]
    }
   ],
   "source": [
    " df3.bhk.unique()"
   ]
  },
  {
   "cell_type": "code",
   "execution_count": 31,
   "id": "1b5bebdc-54ac-4055-9107-4553bad2f444",
   "metadata": {},
   "outputs": [
    {
     "ename": "NameError",
     "evalue": "name 'df3' is not defined",
     "output_type": "error",
     "traceback": [
      "\u001b[1;31m---------------------------------------------------------------------------\u001b[0m",
      "\u001b[1;31mNameError\u001b[0m                                 Traceback (most recent call last)",
      "Cell \u001b[1;32mIn[31], line 1\u001b[0m\n\u001b[1;32m----> 1\u001b[0m df3[df3\u001b[38;5;241m.\u001b[39mbhk\u001b[38;5;241m>\u001b[39m\u001b[38;5;241m20\u001b[39m]\n",
      "\u001b[1;31mNameError\u001b[0m: name 'df3' is not defined"
     ]
    }
   ],
   "source": [
    " df3[df3.bhk>20]"
   ]
  },
  {
   "cell_type": "code",
   "execution_count": 33,
   "id": "1d7b837a-3ac0-4352-bb20-063cbb38dc57",
   "metadata": {},
   "outputs": [
    {
     "ename": "NameError",
     "evalue": "name 'df3' is not defined",
     "output_type": "error",
     "traceback": [
      "\u001b[1;31m---------------------------------------------------------------------------\u001b[0m",
      "\u001b[1;31mNameError\u001b[0m                                 Traceback (most recent call last)",
      "Cell \u001b[1;32mIn[33], line 1\u001b[0m\n\u001b[1;32m----> 1\u001b[0m df3\u001b[38;5;241m.\u001b[39mtotal_sqft\u001b[38;5;241m.\u001b[39munique()\n",
      "\u001b[1;31mNameError\u001b[0m: name 'df3' is not defined"
     ]
    }
   ],
   "source": [
    "df3.total_sqft.unique()"
   ]
  },
  {
   "cell_type": "code",
   "execution_count": 35,
   "id": "9dd6facc-17f0-47d9-bf50-7190fd4df9e9",
   "metadata": {},
   "outputs": [],
   "source": [
    "def is_float(x):\n",
    "    try:\n",
    "        float(x)\n",
    "    except:\n",
    "        return False\n",
    "    return True"
   ]
  },
  {
   "cell_type": "code",
   "execution_count": 37,
   "id": "8ffa5afd-fa7a-4282-a56c-2491e45a0bec",
   "metadata": {},
   "outputs": [
    {
     "ename": "NameError",
     "evalue": "name 'df3' is not defined",
     "output_type": "error",
     "traceback": [
      "\u001b[1;31m---------------------------------------------------------------------------\u001b[0m",
      "\u001b[1;31mNameError\u001b[0m                                 Traceback (most recent call last)",
      "Cell \u001b[1;32mIn[37], line 1\u001b[0m\n\u001b[1;32m----> 1\u001b[0m df3[\u001b[38;5;241m~\u001b[39mdf3[\u001b[38;5;124m'\u001b[39m\u001b[38;5;124mtotal_sqft\u001b[39m\u001b[38;5;124m'\u001b[39m]\u001b[38;5;241m.\u001b[39mapply(is_float)]\u001b[38;5;241m.\u001b[39mhead(\u001b[38;5;241m10\u001b[39m)\n",
      "\u001b[1;31mNameError\u001b[0m: name 'df3' is not defined"
     ]
    }
   ],
   "source": [
    "df3[~df3['total_sqft'].apply(is_float)].head(10)"
   ]
  },
  {
   "cell_type": "code",
   "execution_count": 39,
   "id": "60bf4620-26ec-46d0-873b-e7e9f3c43100",
   "metadata": {},
   "outputs": [],
   "source": [
    "def convert_sqft_to_num(x):\n",
    "    tokens = x.split('-')\n",
    "    if len(tokens) == 2:\n",
    "        return (float(tokens[0])+float(tokens[1]))/2\n",
    "    try:\n",
    "        return float(x)\n",
    "    except:\n",
    "        return None"
   ]
  },
  {
   "cell_type": "code",
   "execution_count": 41,
   "id": "e820bfa6-116e-4f9e-bc0e-ba8a9f4fff92",
   "metadata": {},
   "outputs": [
    {
     "data": {
      "text/plain": [
       "2475.0"
      ]
     },
     "execution_count": 41,
     "metadata": {},
     "output_type": "execute_result"
    }
   ],
   "source": [
    "convert_sqft_to_num('2100 - 2850')"
   ]
  },
  {
   "cell_type": "code",
   "execution_count": 43,
   "id": "c13e2124-69cb-45e5-8a58-fd97307ad73e",
   "metadata": {},
   "outputs": [],
   "source": [
    "convert_sqft_to_num('34.46Sq. Meter')"
   ]
  },
  {
   "cell_type": "code",
   "execution_count": 45,
   "id": "a9e940c4-aa2f-4b6a-8c24-e511ff9a58f2",
   "metadata": {},
   "outputs": [
    {
     "ename": "IndentationError",
     "evalue": "unexpected indent (3618033033.py, line 2)",
     "output_type": "error",
     "traceback": [
      "\u001b[1;36m  Cell \u001b[1;32mIn[45], line 2\u001b[1;36m\u001b[0m\n\u001b[1;33m    df4.total_sqft = df4.total_sqft.apply(convert_sqft_to_num)\u001b[0m\n\u001b[1;37m    ^\u001b[0m\n\u001b[1;31mIndentationError\u001b[0m\u001b[1;31m:\u001b[0m unexpected indent\n"
     ]
    }
   ],
   "source": [
    "df4 = df3.copy()\n",
    " df4.total_sqft = df4.total_sqft.apply(convert_sqft_to_num)\n",
    " df4"
   ]
  },
  {
   "cell_type": "code",
   "execution_count": 47,
   "id": "18e1f4c8-8684-4a86-8a9c-bcb90f358c2e",
   "metadata": {},
   "outputs": [
    {
     "ename": "IndentationError",
     "evalue": "unexpected indent (3792448668.py, line 2)",
     "output_type": "error",
     "traceback": [
      "\u001b[1;36m  Cell \u001b[1;32mIn[47], line 2\u001b[1;36m\u001b[0m\n\u001b[1;33m    df4\u001b[0m\n\u001b[1;37m    ^\u001b[0m\n\u001b[1;31mIndentationError\u001b[0m\u001b[1;31m:\u001b[0m unexpected indent\n"
     ]
    }
   ],
   "source": [
    "df4 = df4[df4.total_sqft.notnull()]\n",
    " df4"
   ]
  },
  {
   "cell_type": "code",
   "execution_count": 49,
   "id": "87b5ea82-7f89-4cd7-aec4-021f366314d9",
   "metadata": {},
   "outputs": [
    {
     "ename": "NameError",
     "evalue": "name 'df4' is not defined",
     "output_type": "error",
     "traceback": [
      "\u001b[1;31m---------------------------------------------------------------------------\u001b[0m",
      "\u001b[1;31mNameError\u001b[0m                                 Traceback (most recent call last)",
      "Cell \u001b[1;32mIn[49], line 1\u001b[0m\n\u001b[1;32m----> 1\u001b[0m df4\u001b[38;5;241m.\u001b[39mloc[\u001b[38;5;241m30\u001b[39m]\n",
      "\u001b[1;31mNameError\u001b[0m: name 'df4' is not defined"
     ]
    }
   ],
   "source": [
    "df4.loc[30]"
   ]
  },
  {
   "cell_type": "code",
   "execution_count": 51,
   "id": "57809d21-7deb-434b-a2c9-d81792412b32",
   "metadata": {},
   "outputs": [
    {
     "data": {
      "text/plain": [
       "2475.0"
      ]
     },
     "execution_count": 51,
     "metadata": {},
     "output_type": "execute_result"
    }
   ],
   "source": [
    "(2100 + 2850)/2"
   ]
  },
  {
   "cell_type": "code",
   "execution_count": 53,
   "id": "04de4fae-571c-427f-8860-024d22def070",
   "metadata": {},
   "outputs": [
    {
     "ename": "IndentationError",
     "evalue": "unexpected indent (3551498961.py, line 2)",
     "output_type": "error",
     "traceback": [
      "\u001b[1;36m  Cell \u001b[1;32mIn[53], line 2\u001b[1;36m\u001b[0m\n\u001b[1;33m    df5['price_per_sqft'] = df5['price']*100000/df5['total_sqft']\u001b[0m\n\u001b[1;37m    ^\u001b[0m\n\u001b[1;31mIndentationError\u001b[0m\u001b[1;31m:\u001b[0m unexpected indent\n"
     ]
    }
   ],
   "source": [
    "df5 = df4.copy()\n",
    " df5['price_per_sqft'] = df5['price']*100000/df5['total_sqft']\n",
    " df5.head()"
   ]
  },
  {
   "cell_type": "code",
   "execution_count": 55,
   "id": "8c0e8643-8679-4d16-a0f7-b27c4b98e06f",
   "metadata": {},
   "outputs": [
    {
     "ename": "IndentationError",
     "evalue": "unexpected indent (1334231724.py, line 2)",
     "output_type": "error",
     "traceback": [
      "\u001b[1;36m  Cell \u001b[1;32mIn[55], line 2\u001b[1;36m\u001b[0m\n\u001b[1;33m    df5_stats\u001b[0m\n\u001b[1;37m    ^\u001b[0m\n\u001b[1;31mIndentationError\u001b[0m\u001b[1;31m:\u001b[0m unexpected indent\n"
     ]
    }
   ],
   "source": [
    "df5_stats = df5['price_per_sqft'].describe()\n",
    " df5_stats"
   ]
  },
  {
   "cell_type": "code",
   "execution_count": 57,
   "id": "4d497a59-67a2-4920-bbfd-de269d39ac73",
   "metadata": {},
   "outputs": [
    {
     "ename": "NameError",
     "evalue": "name 'df5' is not defined",
     "output_type": "error",
     "traceback": [
      "\u001b[1;31m---------------------------------------------------------------------------\u001b[0m",
      "\u001b[1;31mNameError\u001b[0m                                 Traceback (most recent call last)",
      "Cell \u001b[1;32mIn[57], line 1\u001b[0m\n\u001b[1;32m----> 1\u001b[0m df5\u001b[38;5;241m.\u001b[39mto_csv(\u001b[38;5;124m\"\u001b[39m\u001b[38;5;124mbhp.csv\u001b[39m\u001b[38;5;124m\"\u001b[39m,index\u001b[38;5;241m=\u001b[39m\u001b[38;5;28;01mFalse\u001b[39;00m)\n",
      "\u001b[1;31mNameError\u001b[0m: name 'df5' is not defined"
     ]
    }
   ],
   "source": [
    "df5.to_csv(\"bhp.csv\",index=False)"
   ]
  },
  {
   "cell_type": "code",
   "execution_count": 59,
   "id": "09ac5650-df5a-49ce-a150-a6a5858434ff",
   "metadata": {},
   "outputs": [
    {
     "ename": "NameError",
     "evalue": "name 'df5' is not defined",
     "output_type": "error",
     "traceback": [
      "\u001b[1;31m---------------------------------------------------------------------------\u001b[0m",
      "\u001b[1;31mNameError\u001b[0m                                 Traceback (most recent call last)",
      "Cell \u001b[1;32mIn[59], line 1\u001b[0m\n\u001b[1;32m----> 1\u001b[0m \u001b[38;5;28mlen\u001b[39m(df5\u001b[38;5;241m.\u001b[39mlocation\u001b[38;5;241m.\u001b[39munique())\n",
      "\u001b[1;31mNameError\u001b[0m: name 'df5' is not defined"
     ]
    }
   ],
   "source": [
    "len(df5.location.unique())"
   ]
  },
  {
   "cell_type": "code",
   "execution_count": 61,
   "id": "e4bb56ee-ad4b-43bd-ad39-27cc906eb1f2",
   "metadata": {},
   "outputs": [
    {
     "ename": "IndentationError",
     "evalue": "unexpected indent (2317354566.py, line 2)",
     "output_type": "error",
     "traceback": [
      "\u001b[1;36m  Cell \u001b[1;32mIn[61], line 2\u001b[1;36m\u001b[0m\n\u001b[1;33m    location_stats = df5['location'].value_counts(ascending=False)\u001b[0m\n\u001b[1;37m    ^\u001b[0m\n\u001b[1;31mIndentationError\u001b[0m\u001b[1;31m:\u001b[0m unexpected indent\n"
     ]
    }
   ],
   "source": [
    "df5.location = df5.location.apply(lambda x: x.strip())\n",
    " location_stats = df5['location'].value_counts(ascending=False)\n",
    " location_stats"
   ]
  },
  {
   "cell_type": "code",
   "execution_count": 63,
   "id": "8d39ea05-5227-48ce-b89f-81526bfd25c4",
   "metadata": {},
   "outputs": [
    {
     "ename": "NameError",
     "evalue": "name 'location_stats' is not defined",
     "output_type": "error",
     "traceback": [
      "\u001b[1;31m---------------------------------------------------------------------------\u001b[0m",
      "\u001b[1;31mNameError\u001b[0m                                 Traceback (most recent call last)",
      "Cell \u001b[1;32mIn[63], line 1\u001b[0m\n\u001b[1;32m----> 1\u001b[0m \u001b[38;5;28mlen\u001b[39m(location_stats[location_stats\u001b[38;5;241m>\u001b[39m\u001b[38;5;241m10\u001b[39m])\n",
      "\u001b[1;31mNameError\u001b[0m: name 'location_stats' is not defined"
     ]
    }
   ],
   "source": [
    "len(location_stats[location_stats>10])"
   ]
  },
  {
   "cell_type": "code",
   "execution_count": 65,
   "id": "8aabbae3-2c1c-4cd8-8023-aa294e7758d4",
   "metadata": {},
   "outputs": [
    {
     "ename": "NameError",
     "evalue": "name 'location_stats' is not defined",
     "output_type": "error",
     "traceback": [
      "\u001b[1;31m---------------------------------------------------------------------------\u001b[0m",
      "\u001b[1;31mNameError\u001b[0m                                 Traceback (most recent call last)",
      "Cell \u001b[1;32mIn[65], line 1\u001b[0m\n\u001b[1;32m----> 1\u001b[0m \u001b[38;5;28mlen\u001b[39m(location_stats)\n",
      "\u001b[1;31mNameError\u001b[0m: name 'location_stats' is not defined"
     ]
    }
   ],
   "source": [
    "len(location_stats)"
   ]
  },
  {
   "cell_type": "code",
   "execution_count": 67,
   "id": "aacfeb8a-dae1-49f0-82cc-cec42fa80e3d",
   "metadata": {},
   "outputs": [
    {
     "ename": "NameError",
     "evalue": "name 'location_stats' is not defined",
     "output_type": "error",
     "traceback": [
      "\u001b[1;31m---------------------------------------------------------------------------\u001b[0m",
      "\u001b[1;31mNameError\u001b[0m                                 Traceback (most recent call last)",
      "Cell \u001b[1;32mIn[67], line 1\u001b[0m\n\u001b[1;32m----> 1\u001b[0m \u001b[38;5;28mlen\u001b[39m(location_stats[location_stats\u001b[38;5;241m<\u001b[39m\u001b[38;5;241m=\u001b[39m\u001b[38;5;241m10\u001b[39m])\n",
      "\u001b[1;31mNameError\u001b[0m: name 'location_stats' is not defined"
     ]
    }
   ],
   "source": [
    "len(location_stats[location_stats<=10])"
   ]
  },
  {
   "cell_type": "code",
   "execution_count": 69,
   "id": "a4a49772-e6c8-4ae1-9926-988976c1cf5a",
   "metadata": {},
   "outputs": [
    {
     "ename": "IndentationError",
     "evalue": "unexpected indent (1592793682.py, line 2)",
     "output_type": "error",
     "traceback": [
      "\u001b[1;36m  Cell \u001b[1;32mIn[69], line 2\u001b[1;36m\u001b[0m\n\u001b[1;33m    location_stats_less_than_10\u001b[0m\n\u001b[1;37m    ^\u001b[0m\n\u001b[1;31mIndentationError\u001b[0m\u001b[1;31m:\u001b[0m unexpected indent\n"
     ]
    }
   ],
   "source": [
    "location_stats_less_than_10 = location_stats[location_stats<=10]\n",
    " location_stats_less_than_10"
   ]
  },
  {
   "cell_type": "code",
   "execution_count": 72,
   "id": "71ba588c-4bf5-4a38-a8f2-fb503d3d682d",
   "metadata": {},
   "outputs": [
    {
     "ename": "NameError",
     "evalue": "name 'df5' is not defined",
     "output_type": "error",
     "traceback": [
      "\u001b[1;31m---------------------------------------------------------------------------\u001b[0m",
      "\u001b[1;31mNameError\u001b[0m                                 Traceback (most recent call last)",
      "Cell \u001b[1;32mIn[72], line 1\u001b[0m\n\u001b[1;32m----> 1\u001b[0m \u001b[38;5;28mlen\u001b[39m(df5\u001b[38;5;241m.\u001b[39mlocation\u001b[38;5;241m.\u001b[39munique())\n",
      "\u001b[1;31mNameError\u001b[0m: name 'df5' is not defined"
     ]
    }
   ],
   "source": [
    "len(df5.location.unique())"
   ]
  },
  {
   "cell_type": "code",
   "execution_count": 74,
   "id": "7b763254-4a7f-484d-b270-2e1bcd97fd2f",
   "metadata": {},
   "outputs": [
    {
     "ename": "SyntaxError",
     "evalue": "'(' was never closed (483666329.py, line 1)",
     "output_type": "error",
     "traceback": [
      "\u001b[1;36m  Cell \u001b[1;32mIn[74], line 1\u001b[1;36m\u001b[0m\n\u001b[1;33m    df5.location = df5.location.apply(lambda x: 'other' if x in location_stats_less_tha\u001b[0m\n\u001b[1;37m                                     ^\u001b[0m\n\u001b[1;31mSyntaxError\u001b[0m\u001b[1;31m:\u001b[0m '(' was never closed\n"
     ]
    }
   ],
   "source": [
    " df5.location = df5.location.apply(lambda x: 'other' if x in location_stats_less_tha\n",
    " len(df5.location.unique())"
   ]
  },
  {
   "cell_type": "code",
   "execution_count": 76,
   "id": "4b7067d1-9f32-4fd4-b2c9-f3b3b4994d08",
   "metadata": {},
   "outputs": [
    {
     "ename": "NameError",
     "evalue": "name 'df5' is not defined",
     "output_type": "error",
     "traceback": [
      "\u001b[1;31m---------------------------------------------------------------------------\u001b[0m",
      "\u001b[1;31mNameError\u001b[0m                                 Traceback (most recent call last)",
      "Cell \u001b[1;32mIn[76], line 1\u001b[0m\n\u001b[1;32m----> 1\u001b[0m df5\u001b[38;5;241m.\u001b[39mhead(\u001b[38;5;241m10\u001b[39m)\n",
      "\u001b[1;31mNameError\u001b[0m: name 'df5' is not defined"
     ]
    }
   ],
   "source": [
    " df5.head(10)"
   ]
  },
  {
   "cell_type": "code",
   "execution_count": 78,
   "id": "3a91c075-8f39-451d-b66d-c63c63853774",
   "metadata": {},
   "outputs": [
    {
     "ename": "NameError",
     "evalue": "name 'df5' is not defined",
     "output_type": "error",
     "traceback": [
      "\u001b[1;31m---------------------------------------------------------------------------\u001b[0m",
      "\u001b[1;31mNameError\u001b[0m                                 Traceback (most recent call last)",
      "Cell \u001b[1;32mIn[78], line 1\u001b[0m\n\u001b[1;32m----> 1\u001b[0m df5[df5\u001b[38;5;241m.\u001b[39mtotal_sqft\u001b[38;5;241m/\u001b[39mdf5\u001b[38;5;241m.\u001b[39mbhk\u001b[38;5;241m<\u001b[39m\u001b[38;5;241m300\u001b[39m]\u001b[38;5;241m.\u001b[39mhead()\n",
      "\u001b[1;31mNameError\u001b[0m: name 'df5' is not defined"
     ]
    }
   ],
   "source": [
    "df5[df5.total_sqft/df5.bhk<300].head()"
   ]
  },
  {
   "cell_type": "code",
   "execution_count": 80,
   "id": "1802809d-91a6-4416-81af-6b7c87d3d11b",
   "metadata": {},
   "outputs": [
    {
     "ename": "NameError",
     "evalue": "name 'df5' is not defined",
     "output_type": "error",
     "traceback": [
      "\u001b[1;31m---------------------------------------------------------------------------\u001b[0m",
      "\u001b[1;31mNameError\u001b[0m                                 Traceback (most recent call last)",
      "Cell \u001b[1;32mIn[80], line 1\u001b[0m\n\u001b[1;32m----> 1\u001b[0m df5\u001b[38;5;241m.\u001b[39mshape\n",
      "\u001b[1;31mNameError\u001b[0m: name 'df5' is not defined"
     ]
    }
   ],
   "source": [
    "df5.shape"
   ]
  },
  {
   "cell_type": "code",
   "execution_count": 82,
   "id": "9f8fd26d-9129-4559-ade7-e94c6d8fc658",
   "metadata": {},
   "outputs": [
    {
     "ename": "IndentationError",
     "evalue": "unexpected indent (391048743.py, line 2)",
     "output_type": "error",
     "traceback": [
      "\u001b[1;36m  Cell \u001b[1;32mIn[82], line 2\u001b[1;36m\u001b[0m\n\u001b[1;33m    df6.shape\u001b[0m\n\u001b[1;37m    ^\u001b[0m\n\u001b[1;31mIndentationError\u001b[0m\u001b[1;31m:\u001b[0m unexpected indent\n"
     ]
    }
   ],
   "source": [
    "df6 = df5[~(df5.total_sqft/df5.bhk<300)]\n",
    " df6.shape"
   ]
  },
  {
   "cell_type": "code",
   "execution_count": 84,
   "id": "d114f195-5afa-4fad-97b2-645f579babac",
   "metadata": {},
   "outputs": [
    {
     "ename": "NameError",
     "evalue": "name 'df6' is not defined",
     "output_type": "error",
     "traceback": [
      "\u001b[1;31m---------------------------------------------------------------------------\u001b[0m",
      "\u001b[1;31mNameError\u001b[0m                                 Traceback (most recent call last)",
      "Cell \u001b[1;32mIn[84], line 1\u001b[0m\n\u001b[1;32m----> 1\u001b[0m df6\u001b[38;5;241m.\u001b[39mcolumns\n",
      "\u001b[1;31mNameError\u001b[0m: name 'df6' is not defined"
     ]
    }
   ],
   "source": [
    "df6.columns"
   ]
  },
  {
   "cell_type": "code",
   "execution_count": 86,
   "id": "272c6b20-cdb9-4450-8f50-c2d0bb49e2ac",
   "metadata": {},
   "outputs": [
    {
     "ename": "IndentationError",
     "evalue": "unexpected indent (1446475117.py, line 2)",
     "output_type": "error",
     "traceback": [
      "\u001b[1;36m  Cell \u001b[1;32mIn[86], line 2\u001b[1;36m\u001b[0m\n\u001b[1;33m    plt.show()\u001b[0m\n\u001b[1;37m    ^\u001b[0m\n\u001b[1;31mIndentationError\u001b[0m\u001b[1;31m:\u001b[0m unexpected indent\n"
     ]
    }
   ],
   "source": [
    "plt.boxplot(df6['total_sqft'])\n",
    " plt.show()"
   ]
  },
  {
   "cell_type": "code",
   "execution_count": 90,
   "id": "992d05c0-5503-4001-9b32-b1dfe800b48c",
   "metadata": {},
   "outputs": [
    {
     "ename": "IndentationError",
     "evalue": "unexpected indent (1113057960.py, line 2)",
     "output_type": "error",
     "traceback": [
      "\u001b[1;36m  Cell \u001b[1;32mIn[90], line 2\u001b[1;36m\u001b[0m\n\u001b[1;33m    Q3 = np.percentile(df6['total_sqft'], 75.) # 75th percentile of the data of the giv\u001b[0m\n\u001b[1;37m    ^\u001b[0m\n\u001b[1;31mIndentationError\u001b[0m\u001b[1;31m:\u001b[0m unexpected indent\n"
     ]
    }
   ],
   "source": [
    "Q1 = np.percentile(df6['total_sqft'], 25.) # 25th percentile of the data of the giv\n",
    " Q3 = np.percentile(df6['total_sqft'], 75.) # 75th percentile of the data of the giv\n",
    " IQR = Q3-Q1 #Interquartile Range\n",
    " ll = Q1 - (1.5*IQR)\n",
    " ul = Q3 + (1.5*IQR)\n",
    " upper_outliers = df6[df6['total_sqft'] > ul].index.tolist()\n",
    " lower_outliers = df6[df6['total_sqft'] < ll].index.tolist()\n",
    " bad_indices = list(set(upper_outliers + lower_outliers))\n",
    " drop = True\n",
    "if drop:\n",
    "    df6.drop(bad_indices, inplace = True, errors = 'ignore')"
   ]
  },
  {
   "cell_type": "code",
   "execution_count": 92,
   "id": "ce37628a-1c70-43f3-98f4-09f14b0c425d",
   "metadata": {},
   "outputs": [
    {
     "ename": "IndentationError",
     "evalue": "unexpected indent (630945680.py, line 2)",
     "output_type": "error",
     "traceback": [
      "\u001b[1;36m  Cell \u001b[1;32mIn[92], line 2\u001b[1;36m\u001b[0m\n\u001b[1;33m    plt.show()\u001b[0m\n\u001b[1;37m    ^\u001b[0m\n\u001b[1;31mIndentationError\u001b[0m\u001b[1;31m:\u001b[0m unexpected indent\n"
     ]
    }
   ],
   "source": [
    "plt.boxplot(df6['bath'])\n",
    " plt.show()"
   ]
  },
  {
   "cell_type": "code",
   "execution_count": 94,
   "id": "4333b049-c0bc-42cc-9a82-a185c13c970f",
   "metadata": {},
   "outputs": [
    {
     "ename": "NameError",
     "evalue": "name 'np' is not defined",
     "output_type": "error",
     "traceback": [
      "\u001b[1;31m---------------------------------------------------------------------------\u001b[0m",
      "\u001b[1;31mNameError\u001b[0m                                 Traceback (most recent call last)",
      "Cell \u001b[1;32mIn[94], line 1\u001b[0m\n\u001b[1;32m----> 1\u001b[0m Q1 \u001b[38;5;241m=\u001b[39m np\u001b[38;5;241m.\u001b[39mpercentile(df6[\u001b[38;5;124m'\u001b[39m\u001b[38;5;124mbath\u001b[39m\u001b[38;5;124m'\u001b[39m], \u001b[38;5;241m25.\u001b[39m) \u001b[38;5;66;03m# 25th percentile of the data of the given fea\u001b[39;00m\n\u001b[0;32m      2\u001b[0m Q3 \u001b[38;5;241m=\u001b[39m np\u001b[38;5;241m.\u001b[39mpercentile(df6[\u001b[38;5;124m'\u001b[39m\u001b[38;5;124mbath\u001b[39m\u001b[38;5;124m'\u001b[39m], \u001b[38;5;241m75.\u001b[39m) \u001b[38;5;66;03m# 75th percentile of the data of the given fea\u001b[39;00m\n\u001b[0;32m      3\u001b[0m IQR \u001b[38;5;241m=\u001b[39m Q3\u001b[38;5;241m-\u001b[39mQ1 \u001b[38;5;66;03m#Interquartile Range\u001b[39;00m\n",
      "\u001b[1;31mNameError\u001b[0m: name 'np' is not defined"
     ]
    }
   ],
   "source": [
    " Q1 = np.percentile(df6['bath'], 25.) # 25th percentile of the data of the given fea\n",
    " Q3 = np.percentile(df6['bath'], 75.) # 75th percentile of the data of the given fea\n",
    " IQR = Q3-Q1 #Interquartile Range\n",
    " ll = Q1 - (1.5*IQR)\n",
    " ul = Q3 + (1.5*IQR)\n",
    " upper_outliers = df6[df6['bath'] > ul].index.tolist()\n",
    " lower_outliers = df6[df6['bath'] < ll].index.tolist()\n",
    " bad_indices = list(set(upper_outliers + lower_outliers))\n",
    " drop = True\n",
    " if drop:\n",
    "    df6.drop(bad_indices, inplace = True, errors = 'ignore')"
   ]
  },
  {
   "cell_type": "code",
   "execution_count": 96,
   "id": "aee312d0-687a-4314-8788-4d0556d7fdcc",
   "metadata": {},
   "outputs": [
    {
     "ename": "IndentationError",
     "evalue": "unexpected indent (3269750629.py, line 2)",
     "output_type": "error",
     "traceback": [
      "\u001b[1;36m  Cell \u001b[1;32mIn[96], line 2\u001b[1;36m\u001b[0m\n\u001b[1;33m    plt.show()\u001b[0m\n\u001b[1;37m    ^\u001b[0m\n\u001b[1;31mIndentationError\u001b[0m\u001b[1;31m:\u001b[0m unexpected indent\n"
     ]
    }
   ],
   "source": [
    "plt.boxplot(df6['price'])\n",
    " plt.show()"
   ]
  },
  {
   "cell_type": "code",
   "execution_count": 98,
   "id": "3febc1d8-6b37-435a-8504-142d073a9f1a",
   "metadata": {},
   "outputs": [
    {
     "ename": "IndentationError",
     "evalue": "expected an indented block after 'if' statement on line 10 (3332375264.py, line 11)",
     "output_type": "error",
     "traceback": [
      "\u001b[1;36m  Cell \u001b[1;32mIn[98], line 11\u001b[1;36m\u001b[0m\n\u001b[1;33m    df6.drop(bad_indices, inplace = True, errors = 'ignore')\u001b[0m\n\u001b[1;37m    ^\u001b[0m\n\u001b[1;31mIndentationError\u001b[0m\u001b[1;31m:\u001b[0m expected an indented block after 'if' statement on line 10\n"
     ]
    }
   ],
   "source": [
    " Q1 = np.percentile(df6['price'], 25.) # 25th percentile of the data of the given fe\n",
    " Q3 = np.percentile(df6['price'], 75.) # 75th percentile of the data of the given fe\n",
    " IQR = Q3-Q1 #Interquartile Range\n",
    " ll = Q1 - (1.5*IQR)\n",
    " ul = Q3 + (1.5*IQR)\n",
    " upper_outliers = df6[df6['price'] > ul].index.tolist()\n",
    " lower_outliers = df6[df6['price'] < ll].index.tolist()\n",
    " bad_indices = list(set(upper_outliers + lower_outliers))\n",
    " drop = True\n",
    " if drop:\n",
    " df6.drop(bad_indices, inplace = True, errors = 'ignore')"
   ]
  },
  {
   "cell_type": "code",
   "execution_count": 100,
   "id": "86328c98-45d9-45a1-9702-1f7b67768e4c",
   "metadata": {},
   "outputs": [
    {
     "ename": "NameError",
     "evalue": "name 'plt' is not defined",
     "output_type": "error",
     "traceback": [
      "\u001b[1;31m---------------------------------------------------------------------------\u001b[0m",
      "\u001b[1;31mNameError\u001b[0m                                 Traceback (most recent call last)",
      "Cell \u001b[1;32mIn[100], line 1\u001b[0m\n\u001b[1;32m----> 1\u001b[0m plt\u001b[38;5;241m.\u001b[39mboxplot(df6[\u001b[38;5;124m'\u001b[39m\u001b[38;5;124mbhk\u001b[39m\u001b[38;5;124m'\u001b[39m])\n\u001b[0;32m      2\u001b[0m plt\u001b[38;5;241m.\u001b[39mshow()\n",
      "\u001b[1;31mNameError\u001b[0m: name 'plt' is not defined"
     ]
    }
   ],
   "source": [
    " plt.boxplot(df6['bhk'])\n",
    " plt.show()"
   ]
  },
  {
   "cell_type": "code",
   "execution_count": 102,
   "id": "48f34b0d-e11a-41fc-8a66-83a37f54e92e",
   "metadata": {},
   "outputs": [
    {
     "ename": "IndentationError",
     "evalue": "unexpected indent (2349008738.py, line 2)",
     "output_type": "error",
     "traceback": [
      "\u001b[1;36m  Cell \u001b[1;32mIn[102], line 2\u001b[1;36m\u001b[0m\n\u001b[1;33m    Q3 = np.percentile(df6['bhk'], 75.) # 75th percentile of the data of the given feat\u001b[0m\n\u001b[1;37m    ^\u001b[0m\n\u001b[1;31mIndentationError\u001b[0m\u001b[1;31m:\u001b[0m unexpected indent\n"
     ]
    }
   ],
   "source": [
    "Q1 = np.percentile(df6['bhk'], 25.) # 25th percentile of the data of the given feat\n",
    " Q3 = np.percentile(df6['bhk'], 75.) # 75th percentile of the data of the given feat\n",
    " IQR = Q3-Q1 #Interquartile Range\n",
    "ll = Q1 - (1.5*IQR)\n",
    " ul = Q3 + (1.5*IQR)\n",
    " upper_outliers = df6[df6['bhk'] > ul].index.tolist()\n",
    " lower_outliers = df6[df6['bhk'] < ll].index.tolist()\n",
    " bad_indices = list(set(upper_outliers + lower_outliers))\n",
    " drop = True\n",
    " if drop:\n",
    "    df6.drop(bad_indices, inplace = True, errors = 'ignore')"
   ]
  },
  {
   "cell_type": "code",
   "execution_count": 104,
   "id": "784bf93b-ee55-4b7a-aafe-610d407065d4",
   "metadata": {},
   "outputs": [
    {
     "ename": "IndentationError",
     "evalue": "unexpected indent (864625444.py, line 2)",
     "output_type": "error",
     "traceback": [
      "\u001b[1;36m  Cell \u001b[1;32mIn[104], line 2\u001b[1;36m\u001b[0m\n\u001b[1;33m    plt.show()\u001b[0m\n\u001b[1;37m    ^\u001b[0m\n\u001b[1;31mIndentationError\u001b[0m\u001b[1;31m:\u001b[0m unexpected indent\n"
     ]
    }
   ],
   "source": [
    "plt.boxplot(df6['price_per_sqft'])\n",
    " plt.show()"
   ]
  },
  {
   "cell_type": "code",
   "execution_count": 106,
   "id": "db8a380a-4908-49cb-8d1c-d643568f9f43",
   "metadata": {},
   "outputs": [
    {
     "ename": "IndentationError",
     "evalue": "unexpected indent (300589566.py, line 2)",
     "output_type": "error",
     "traceback": [
      "\u001b[1;36m  Cell \u001b[1;32mIn[106], line 2\u001b[1;36m\u001b[0m\n\u001b[1;33m    Q3 = np.percentile(df6['price_per_sqft'], 75.) # 75th percentile of the data of the\u001b[0m\n\u001b[1;37m    ^\u001b[0m\n\u001b[1;31mIndentationError\u001b[0m\u001b[1;31m:\u001b[0m unexpected indent\n"
     ]
    }
   ],
   "source": [
    "Q1 = np.percentile(df6['price_per_sqft'], 25.) # 25th percentile of the data of the\n",
    " Q3 = np.percentile(df6['price_per_sqft'], 75.) # 75th percentile of the data of the\n",
    " IQR = Q3-Q1 #Interquartile Range\n",
    " ll = Q1 - (1.5*IQR)\n",
    " ul = Q3 + (1.5*IQR)\n",
    " upper_outliers = df6[df6['price_per_sqft'] > ul].index.tolist()\n",
    " lower_outliers = df6[df6['price_per_sqft'] < ll].index.tolist()\n",
    " bad_indices = list(set(upper_outliers + lower_outliers))\n",
    " drop = True\n",
    " if drop:\n",
    "    df6.drop(bad_indices, inplace = True, errors = 'ignore')"
   ]
  },
  {
   "cell_type": "code",
   "execution_count": 108,
   "id": "abff3ede-6ea2-4574-bdcb-a701eaf40a06",
   "metadata": {},
   "outputs": [
    {
     "ename": "NameError",
     "evalue": "name 'df6' is not defined",
     "output_type": "error",
     "traceback": [
      "\u001b[1;31m---------------------------------------------------------------------------\u001b[0m",
      "\u001b[1;31mNameError\u001b[0m                                 Traceback (most recent call last)",
      "Cell \u001b[1;32mIn[108], line 1\u001b[0m\n\u001b[1;32m----> 1\u001b[0m df6\u001b[38;5;241m.\u001b[39mshape\n",
      "\u001b[1;31mNameError\u001b[0m: name 'df6' is not defined"
     ]
    }
   ],
   "source": [
    "df6.shape"
   ]
  },
  {
   "cell_type": "code",
   "execution_count": 110,
   "id": "baea9e49-0154-4394-8308-e1b6219bd134",
   "metadata": {},
   "outputs": [
    {
     "ename": "IndentationError",
     "evalue": "unexpected indent (3193159043.py, line 2)",
     "output_type": "error",
     "traceback": [
      "\u001b[1;36m  Cell \u001b[1;32mIn[110], line 2\u001b[1;36m\u001b[0m\n\u001b[1;33m    X.head(3)\u001b[0m\n\u001b[1;37m    ^\u001b[0m\n\u001b[1;31mIndentationError\u001b[0m\u001b[1;31m:\u001b[0m unexpected indent\n"
     ]
    }
   ],
   "source": [
    "X = df6.drop(['price'],axis='columns')\n",
    " X.head(3)"
   ]
  },
  {
   "cell_type": "code",
   "execution_count": 112,
   "id": "754fea37-8202-4b73-8048-47ab7e31c5db",
   "metadata": {},
   "outputs": [
    {
     "ename": "NameError",
     "evalue": "name 'X' is not defined",
     "output_type": "error",
     "traceback": [
      "\u001b[1;31m---------------------------------------------------------------------------\u001b[0m",
      "\u001b[1;31mNameError\u001b[0m                                 Traceback (most recent call last)",
      "Cell \u001b[1;32mIn[112], line 1\u001b[0m\n\u001b[1;32m----> 1\u001b[0m X\u001b[38;5;241m.\u001b[39mshape\n",
      "\u001b[1;31mNameError\u001b[0m: name 'X' is not defined"
     ]
    }
   ],
   "source": [
    "X.shape"
   ]
  },
  {
   "cell_type": "code",
   "execution_count": 114,
   "id": "2419f09c-1319-4e1b-b8a3-655f8ff70e71",
   "metadata": {},
   "outputs": [
    {
     "ename": "IndentationError",
     "evalue": "unexpected indent (2393853330.py, line 2)",
     "output_type": "error",
     "traceback": [
      "\u001b[1;36m  Cell \u001b[1;32mIn[114], line 2\u001b[1;36m\u001b[0m\n\u001b[1;33m    y.head(3)\u001b[0m\n\u001b[1;37m    ^\u001b[0m\n\u001b[1;31mIndentationError\u001b[0m\u001b[1;31m:\u001b[0m unexpected indent\n"
     ]
    }
   ],
   "source": [
    "y = df6.price\n",
    " y.head(3)"
   ]
  },
  {
   "cell_type": "code",
   "execution_count": 116,
   "id": "d4f3cfda-1519-443f-92e1-188936638c78",
   "metadata": {},
   "outputs": [
    {
     "ename": "NameError",
     "evalue": "name 'y' is not defined",
     "output_type": "error",
     "traceback": [
      "\u001b[1;31m---------------------------------------------------------------------------\u001b[0m",
      "\u001b[1;31mNameError\u001b[0m                                 Traceback (most recent call last)",
      "Cell \u001b[1;32mIn[116], line 1\u001b[0m\n\u001b[1;32m----> 1\u001b[0m \u001b[38;5;28mlen\u001b[39m(y)\n",
      "\u001b[1;31mNameError\u001b[0m: name 'y' is not defined"
     ]
    }
   ],
   "source": [
    "len(y)"
   ]
  },
  {
   "cell_type": "code",
   "execution_count": 122,
   "id": "1c2452d5-3551-4ff3-8645-4b2d403c3886",
   "metadata": {},
   "outputs": [
    {
     "ename": "SyntaxError",
     "evalue": "incomplete input (601394880.py, line 2)",
     "output_type": "error",
     "traceback": [
      "\u001b[1;36m  Cell \u001b[1;32mIn[122], line 2\u001b[1;36m\u001b[0m\n\u001b[1;33m    X_train, X_test, y_train, y_test = train_test_split(X,y,test_size=0.2,random_state=\u001b[0m\n\u001b[1;37m                                                                                       ^\u001b[0m\n\u001b[1;31mSyntaxError\u001b[0m\u001b[1;31m:\u001b[0m incomplete input\n"
     ]
    }
   ],
   "source": [
    " from sklearn.model_selection import train_test_split\n",
    " X_train, X_test, y_train, y_test = train_test_split(X,y,test_size=0.2,random_state=\n"
   ]
  },
  {
   "cell_type": "code",
   "execution_count": 124,
   "id": "a618c2c8-870d-472c-8a08-5a436940f52f",
   "metadata": {},
   "outputs": [
    {
     "ename": "NameError",
     "evalue": "name 'X_train' is not defined",
     "output_type": "error",
     "traceback": [
      "\u001b[1;31m---------------------------------------------------------------------------\u001b[0m",
      "\u001b[1;31mNameError\u001b[0m                                 Traceback (most recent call last)",
      "Cell \u001b[1;32mIn[124], line 1\u001b[0m\n\u001b[1;32m----> 1\u001b[0m X_train\u001b[38;5;241m.\u001b[39mshape\n",
      "\u001b[1;31mNameError\u001b[0m: name 'X_train' is not defined"
     ]
    }
   ],
   "source": [
    " X_train.shape"
   ]
  },
  {
   "cell_type": "code",
   "execution_count": 126,
   "id": "83ef4506-e4f7-450d-b715-ca60a15bfd64",
   "metadata": {},
   "outputs": [
    {
     "ename": "NameError",
     "evalue": "name 'y_train' is not defined",
     "output_type": "error",
     "traceback": [
      "\u001b[1;31m---------------------------------------------------------------------------\u001b[0m",
      "\u001b[1;31mNameError\u001b[0m                                 Traceback (most recent call last)",
      "Cell \u001b[1;32mIn[126], line 1\u001b[0m\n\u001b[1;32m----> 1\u001b[0m y_train\u001b[38;5;241m.\u001b[39mshape\n",
      "\u001b[1;31mNameError\u001b[0m: name 'y_train' is not defined"
     ]
    }
   ],
   "source": [
    "y_train.shape"
   ]
  },
  {
   "cell_type": "code",
   "execution_count": 128,
   "id": "2fa3311b-2355-4cb7-9123-eaa43602d412",
   "metadata": {},
   "outputs": [
    {
     "ename": "NameError",
     "evalue": "name 'X_test' is not defined",
     "output_type": "error",
     "traceback": [
      "\u001b[1;31m---------------------------------------------------------------------------\u001b[0m",
      "\u001b[1;31mNameError\u001b[0m                                 Traceback (most recent call last)",
      "Cell \u001b[1;32mIn[128], line 1\u001b[0m\n\u001b[1;32m----> 1\u001b[0m X_test\u001b[38;5;241m.\u001b[39mshape\n",
      "\u001b[1;31mNameError\u001b[0m: name 'X_test' is not defined"
     ]
    }
   ],
   "source": [
    "X_test.shape"
   ]
  },
  {
   "cell_type": "code",
   "execution_count": 130,
   "id": "9c42e84e-f29e-439d-a259-4932dcbe6773",
   "metadata": {},
   "outputs": [
    {
     "ename": "NameError",
     "evalue": "name 'y_test' is not defined",
     "output_type": "error",
     "traceback": [
      "\u001b[1;31m---------------------------------------------------------------------------\u001b[0m",
      "\u001b[1;31mNameError\u001b[0m                                 Traceback (most recent call last)",
      "Cell \u001b[1;32mIn[130], line 1\u001b[0m\n\u001b[1;32m----> 1\u001b[0m y_test\u001b[38;5;241m.\u001b[39mshape\n",
      "\u001b[1;31mNameError\u001b[0m: name 'y_test' is not defined"
     ]
    }
   ],
   "source": [
    "y_test.shape"
   ]
  },
  {
   "cell_type": "code",
   "execution_count": null,
   "id": "a6db6e55-5516-4469-87a9-55ed90eb2a2b",
   "metadata": {},
   "outputs": [],
   "source": []
  }
 ],
 "metadata": {
  "kernelspec": {
   "display_name": "Python 3 (ipykernel)",
   "language": "python",
   "name": "python3"
  },
  "language_info": {
   "codemirror_mode": {
    "name": "ipython",
    "version": 3
   },
   "file_extension": ".py",
   "mimetype": "text/x-python",
   "name": "python",
   "nbconvert_exporter": "python",
   "pygments_lexer": "ipython3",
   "version": "3.12.4"
  }
 },
 "nbformat": 4,
 "nbformat_minor": 5
}
