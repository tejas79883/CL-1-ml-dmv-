{
 "cells": [
  {
   "cell_type": "code",
   "execution_count": 2,
   "id": "30d0d230-4853-4e57-91e4-5c99d3dc90e3",
   "metadata": {},
   "outputs": [],
   "source": [
    "import pandas as pd\n",
    "import numpy as np\n",
    "import matplotlib.pyplot as plt\n",
    "import seaborn as sns\n"
   ]
  },
  {
   "cell_type": "code",
   "execution_count": null,
   "id": "59e0101f-7650-41c9-aaa8-bdd1dc8e4acb",
   "metadata": {},
   "outputs": [],
   "source": [
    "df1=pd.read_csv('sales.csv', encoding='ISO-8859-1')\n",
    "df2=pd.read_json('sales.json')\n",
    "df3=pd.read_excel('sales.xlsx')\n"
   ]
  },
  {
   "cell_type": "code",
   "execution_count": null,
   "id": "0fe2a931-c505-42f9-a53b-ed638334500f",
   "metadata": {},
   "outputs": [],
   "source": [
    "df1.head()\n"
   ]
  },
  {
   "cell_type": "code",
   "execution_count": null,
   "id": "4bdd3c4d-33d3-436d-9e0c-7c1835f15595",
   "metadata": {},
   "outputs": [],
   "source": [
    "df2.head()\n"
   ]
  },
  {
   "cell_type": "code",
   "execution_count": null,
   "id": "a596f810-9a05-4c1d-8f8d-a721b53ba60a",
   "metadata": {},
   "outputs": [],
   "source": [
    "df3.head()"
   ]
  },
  {
   "cell_type": "code",
   "execution_count": null,
   "id": "6a7aa64b-7cf0-45e5-88dd-1313ec246b4a",
   "metadata": {},
   "outputs": [],
   "source": [
    "df2.shape"
   ]
  },
  {
   "cell_type": "code",
   "execution_count": null,
   "id": "87cf7382-6d73-4350-b7af-be6f86e31e42",
   "metadata": {},
   "outputs": [],
   "source": [
    "df1.info()"
   ]
  },
  {
   "cell_type": "code",
   "execution_count": null,
   "id": "71d5e168-b7d8-466b-b4e5-f53038591657",
   "metadata": {},
   "outputs": [],
   "source": [
    "#Checks for NA values in columns\n",
    "df1.isna().sum()"
   ]
  },
  {
   "cell_type": "code",
   "execution_count": null,
   "id": "24b30eb9-f9ad-41ad-b8a3-d720bce0b070",
   "metadata": {},
   "outputs": [],
   "source": [
    "#for calculating some statistical data like percentile, mean and std of the numeric\n",
    "df1.describe()"
   ]
  },
  {
   "cell_type": "code",
   "execution_count": null,
   "id": "9e1d3370-737e-4a0c-99ff-5d5ca15b8f33",
   "metadata": {},
   "outputs": [],
   "source": [
    "#Dropping unnecessary columns\n",
    "df1 = df1.drop(['ADDRESSLINE1','ADDRESSLINE2','CITY','STATE','TERRITORY'],axis = 1)"
   ]
  },
  {
   "cell_type": "code",
   "execution_count": null,
   "id": "9f7d85a8-d325-4d2a-915f-a4726bd7177f",
   "metadata": {},
   "outputs": [],
   "source": [
    "df1.isna().sum()"
   ]
  },
  {
   "cell_type": "code",
   "execution_count": null,
   "id": "624f96b3-4cff-4cf9-8072-ab025a9c84bd",
   "metadata": {},
   "outputs": [],
   "source": [
    "#Filling all NA values with mode of the POSTALCODE column\n",
    "df1 = df1['POSTALCODE'].fillna(df1.POSTALCODE.mode(), inplace=True)"
   ]
  },
  {
   "cell_type": "code",
   "execution_count": null,
   "id": "aa7d924c-7c86-4c18-b319-02a2b60bdfa5",
   "metadata": {},
   "outputs": [],
   "source": [
    "df2.info()"
   ]
  },
  {
   "cell_type": "code",
   "execution_count": null,
   "id": "a67da6a0-30dc-49d5-9e30-c8bc053257d1",
   "metadata": {},
   "outputs": [],
   "source": [
    "df2.isna().sum()\n"
   ]
  },
  {
   "cell_type": "code",
   "execution_count": null,
   "id": "8cd95504-4fe3-4a22-b233-c1fbf4ed377c",
   "metadata": {},
   "outputs": [],
   "source": [
    "df2 = df2.drop(['ADDRESSLINE1','ADDRESSLINE2','CITY','STATE','TERRITORY'],axis = 1)"
   ]
  },
  {
   "cell_type": "code",
   "execution_count": null,
   "id": "2aa8dd61-760b-4767-8a37-a32213908fa6",
   "metadata": {},
   "outputs": [],
   "source": [
    "df2.describe()"
   ]
  },
  {
   "cell_type": "code",
   "execution_count": null,
   "id": "76db67ec-3394-4206-b4cc-2116e9357642",
   "metadata": {},
   "outputs": [],
   "source": [
    "df3.info()"
   ]
  },
  {
   "cell_type": "code",
   "execution_count": null,
   "id": "25888367-f2be-4138-8e19-a4a2e9d0c1f0",
   "metadata": {},
   "outputs": [],
   "source": [
    "df2.isna().sum()"
   ]
  },
  {
   "cell_type": "code",
   "execution_count": null,
   "id": "bc24da32-eb31-40b4-beb3-2e1bbf90e75c",
   "metadata": {},
   "outputs": [],
   "source": [
    "df3.describe()\n"
   ]
  },
  {
   "cell_type": "code",
   "execution_count": null,
   "id": "572abf34-5a9f-41bf-8e40-2e2009373878",
   "metadata": {},
   "outputs": [],
   "source": [
    "import pandas as pd\n",
    "# Load the CSV file into a DataFrame\n",
    "df1 = pd.read_csv('sales.csv',encoding='ISO-8859-1')\n",
    "df2 = pd.read_json('sales.json')\n",
    "df3 = pd.read_excel('sales.xlsx')\n",
    "# Check the data types of columns\n",
    "data_types = df1.dtypes\n",
    "print(data_types)"
   ]
  },
  {
   "cell_type": "code",
   "execution_count": null,
   "id": "26bebaa0-1df3-4602-be57-fe54ebcfa13f",
   "metadata": {},
   "outputs": [],
   "source": [
    "import seaborn as sns\n",
    "import matplotlib.pyplot as plt\n",
    "# Assuming your DataFrame is named df1\n",
    "sns.histplot(x='STATUS', data=df1)\n",
    "plt.show()\n"
   ]
  },
  {
   "cell_type": "code",
   "execution_count": null,
   "id": "8bb571c2-5033-4e14-ae8e-2bb775606ae5",
   "metadata": {},
   "outputs": [],
   "source": [
    " #Plotting histogram plot for STATUS column"
   ]
  },
  {
   "cell_type": "code",
   "execution_count": null,
   "id": "704fbcde-9e32-4ae9-8644-3f8c0c2f9534",
   "metadata": {},
   "outputs": [],
   "source": [
    "import seaborn as sns\n",
    "import matplotlib.pyplot as plt\n",
    "sns.histplot(x='STATUS', data=df2, )\n",
    "plt.show()\n"
   ]
  },
  {
   "cell_type": "code",
   "execution_count": null,
   "id": "753cc35d-e60d-4c04-91e4-3b16637029bc",
   "metadata": {},
   "outputs": [],
   "source": [
    "#Plotting histogram plot for STATUS column\n",
    "import seaborn as sns\n",
    "import matplotlib.pyplot as plt\n",
    "sns.histplot(x='STATUS', data=df3, )\n",
    "plt.show()"
   ]
  },
  {
   "cell_type": "code",
   "execution_count": null,
   "id": "c08dc245-940b-4e10-9b73-35f16c985bb6",
   "metadata": {},
   "outputs": [],
   "source": [
    "#Plotting histogram plot for MONTH_ID column\n",
    "import seaborn as sns\n",
    "import matplotlib.pyplot as plt\n",
    "sns.histplot(x='MONTH_ID', data=df1, )\n",
    "plt.show()"
   ]
  },
  {
   "cell_type": "code",
   "execution_count": null,
   "id": "b0b5fa80-737f-487b-89a7-056d0cfff52e",
   "metadata": {},
   "outputs": [],
   "source": [
    "#Plotting histogram plot for MONTH_ID column\n",
    "import seaborn as sns\n",
    "import matplotlib.pyplot as plt\n",
    "sns.histplot(x='MONTH_ID', data=df2, )\n",
    "plt.show()\n"
   ]
  },
  {
   "cell_type": "code",
   "execution_count": null,
   "id": "d53e064c-93be-49be-9395-1a338a3a03fc",
   "metadata": {},
   "outputs": [],
   "source": [
    "#Plotting histogram plot for MONTH_ID column\n",
    "import seaborn as sns\n",
    "import matplotlib.pyplot as plt\n",
    "sns.histplot(x='MONTH_ID', data=df3, )\n",
    "plt.show()"
   ]
  },
  {
   "cell_type": "code",
   "execution_count": null,
   "id": "f02fbb21-215c-44b7-b687-102a32e429ad",
   "metadata": {},
   "outputs": [],
   "source": [
    "#Plotting boxplot for STATUS column against MONTH_ID column\n",
    "sns.boxplot( x=\"STATUS\", y= \"MONTH_ID\", data=df1, )\n",
    "plt.show()\n"
   ]
  },
  {
   "cell_type": "code",
   "execution_count": null,
   "id": "41ac94bf-6c07-4e9d-ac7a-6daa3f6a8a27",
   "metadata": {},
   "outputs": [],
   "source": [
    "#Plotting boxplot for STATUS column against MONTH_ID column\n",
    "sns.boxplot( x=\"STATUS\", y= \"MONTH_ID\", data=df2, )\n",
    "plt.show()"
   ]
  },
  {
   "cell_type": "code",
   "execution_count": null,
   "id": "3162e6a1-b693-4011-97ec-69ca42b1bc91",
   "metadata": {},
   "outputs": [],
   "source": [
    "#Plotting boxplot for STATUS column against MONTH_ID column\n",
    "sns.boxplot( x=\"STATUS\", y= \"MONTH_ID\", data=df3, )\n",
    "plt.show()"
   ]
  },
  {
   "cell_type": "code",
   "execution_count": null,
   "id": "c40fe052-54b6-4ccc-8d7f-03ab617d7651",
   "metadata": {},
   "outputs": [],
   "source": [
    "#Plotting Scatterplot\n",
    "sns.scatterplot( x=\"STATUS\", y=\"MONTH_ID\", data=df1,hue='COUNTRY', size='YEAR_ID')\n",
    "# Placing Legend outside the Figure\n",
    "plt.legend(bbox_to_anchor=(1, 1), loc=2)\n",
    "plt.show()\n"
   ]
  },
  {
   "cell_type": "code",
   "execution_count": null,
   "id": "1862d2ac-83fe-4cd5-98f1-a3bd8db6109f",
   "metadata": {},
   "outputs": [],
   "source": [
    "#Plotting Scatterplot\n",
    "sns.scatterplot( x=\"STATUS\", y=\"MONTH_ID\", data=df2,hue='COUNTRY', size='YEAR_ID')\n",
    "# Placing Legend outside the Figure\n",
    "plt.legend(bbox_to_anchor=(1, 1), loc=2)\n",
    "plt.show()"
   ]
  },
  {
   "cell_type": "code",
   "execution_count": null,
   "id": "8d626cf4-4994-4ea9-9099-c4a60f36cdf5",
   "metadata": {},
   "outputs": [],
   "source": [
    "#Plotting Scatterplot\n",
    "sns.scatterplot( x=\"STATUS\", y=\"MONTH_ID\", data=df3,hue='COUNTRY', size='YEAR_ID')\n",
    "# Placing Legend outside the Figure\n",
    "plt.legend(bbox_to_anchor=(1, 1), loc=2)\n",
    "plt.show()"
   ]
  },
  {
   "cell_type": "code",
   "execution_count": null,
   "id": "f3375113-51ac-4b18-ad29-48fcb37303f5",
   "metadata": {},
   "outputs": [],
   "source": [
    "#Checking the data only for shipped STATUS\n",
    "data1=df1[df1[\"STATUS\"]=='Shipped']\n",
    "data1.head()\n"
   ]
  },
  {
   "cell_type": "code",
   "execution_count": null,
   "id": "1acd8703-951a-4dd3-b6fa-740b050aea2b",
   "metadata": {},
   "outputs": [],
   "source": [
    "#Checking the data only for shipped STATUS\n",
    "data2=df2[df2[\"STATUS\"]=='Shipped']\n",
    "data2.head()"
   ]
  },
  {
   "cell_type": "code",
   "execution_count": null,
   "id": "8227ea45-f9e9-4428-864a-c9e06118e6ea",
   "metadata": {},
   "outputs": [],
   "source": [
    "#Checking the data only for shipped STATUS\n",
    "data2=df2[df2[\"STATUS\"]=='Shipped']\n",
    "data2.head()"
   ]
  },
  {
   "cell_type": "code",
   "execution_count": null,
   "id": "79028046-8504-4ab5-b021-bae53e77b8aa",
   "metadata": {},
   "outputs": [],
   "source": [
    "data1.shape\n"
   ]
  },
  {
   "cell_type": "code",
   "execution_count": null,
   "id": "11495408-b0f7-4e9b-b74a-0c7f35577b35",
   "metadata": {},
   "outputs": [],
   "source": [
    "data2.shape"
   ]
  },
  {
   "cell_type": "code",
   "execution_count": null,
   "id": "8b46317e-07e6-4678-b576-246b5c6a8723",
   "metadata": {},
   "outputs": [],
   "source": [
    "data3.shape"
   ]
  },
  {
   "cell_type": "code",
   "execution_count": null,
   "id": "6d45e303-8014-42cc-b6a3-b75e3456658d",
   "metadata": {},
   "outputs": [],
   "source": [
    "#Calculating sum for sales column\n",
    "sum_sales = df1['SALES'].sum()\n",
    "print(\"Addition of all sales\",sum_sales)"
   ]
  },
  {
   "cell_type": "code",
   "execution_count": null,
   "id": "ae7e176b-009d-4c03-9063-63e57d53203d",
   "metadata": {},
   "outputs": [],
   "source": [
    "#Calculating sum for sales column\n",
    "sum_sales = df2['SALES'].sum()\n",
    "print(\"Addition of all sales\",sum_sales)"
   ]
  },
  {
   "cell_type": "code",
   "execution_count": null,
   "id": "a67ef99e-8795-4221-b2e4-5283d15fc5b6",
   "metadata": {},
   "outputs": [],
   "source": [
    "#Calculating sum for sales column\n",
    "sum_sales = df3['SALES'].sum()\n",
    "print(\"Addition of all sales\",sum_sales)"
   ]
  },
  {
   "cell_type": "code",
   "execution_count": null,
   "id": "b094589d-f90e-4625-82dc-d4f208b74ce5",
   "metadata": {},
   "outputs": [],
   "source": [
    "#Calulating average for sales column\n",
    "sales_avg = df1['SALES'].mean()\n",
    "print(\"Average of total sales = \",sales_avg)"
   ]
  },
  {
   "cell_type": "code",
   "execution_count": null,
   "id": "36bc73bf-ad5b-43fe-9845-8cabfcaebcb6",
   "metadata": {},
   "outputs": [],
   "source": [
    "#Calulating average for sales column\n",
    "sales_avg = df2['SALES'].mean()\n",
    "print(\"Average of total sales = \",sales_avg)\n"
   ]
  },
  {
   "cell_type": "code",
   "execution_count": null,
   "id": "7d4d020f-4bdd-4ea4-abe8-f089360d938f",
   "metadata": {},
   "outputs": [],
   "source": [
    "#Calulating average for sales column\n",
    "sales_avg = df3['SALES'].mean()\n",
    "print(\"Average of total sales = \",sales_avg)\n"
   ]
  },
  {
   "cell_type": "code",
   "execution_count": null,
   "id": "47b0df4c-4c89-45d6-afa4-92ef44a90e2d",
   "metadata": {},
   "outputs": [],
   "source": [
    "import sklearn\n",
    "import pandas as pd\n",
    "import seaborn as sns\n",
    "# IQR\n",
    "Q1 = np.percentile(df1['SALES'], 25,\n",
    "interpolation = 'midpoint')\n",
    "Q3 = np.percentile(df1['SALES'], 75,\n",
    "interpolation = 'midpoint')\n",
    "IQR = Q3 - Q1\n",
    "print(\"Old Shape: \", df1.shape)\n",
    "# Upper bound\n",
    "upper = np.where(df1['SALES'] >= (Q3+1.5*IQR))\n",
    "# Lower bound\n",
    "lower = np.where(df1['SALES'] <= (Q1-1.5*IQR))\n",
    "# Removing the Outliers\n",
    "df1.drop(upper[0], inplace = True)\n",
    "df1.drop(lower[0], inplace = True)\n",
    "print(\"New Shape: \", df1.shape)\n",
    "sns.boxplot(x='SALES', data=df1)"
   ]
  },
  {
   "cell_type": "code",
   "execution_count": null,
   "id": "28100b74-39eb-4ac9-a2a9-b083c7406ab1",
   "metadata": {},
   "outputs": [],
   "source": [
    "\n",
    "import sklearn\n",
    "import pandas as pd\n",
    "import seaborn as sns\n",
    "# IQR\n",
    "Q1 = np.percentile(df2['SALES'], 25,\n",
    "interpolation = 'midpoint')\n",
    "Q3 = np.percentile(df2['SALES'], 75,\n",
    "interpolation = 'midpoint')\n",
    "IQR = Q3 - Q1\n",
    "print(\"Old Shape: \", df2.shape)\n",
    "# Upper bound\n",
    "upper = np.where(df2['SALES'] >= (Q3+1.5*IQR))\n",
    "# Lower bound\n",
    "lower = np.where(df2['SALES'] <= (Q1-1.5*IQR))\n",
    "# Removing the Outliers\n",
    "df2.drop(upper[0], inplace = True)\n",
    "df2.drop(lower[0], inplace = True)\n",
    "print(\"New Shape: \", df2.shape)\n",
    "sns.boxplot(x='SALES', data=df2)"
   ]
  },
  {
   "cell_type": "code",
   "execution_count": null,
   "id": "74822772-d3ab-431e-84e6-ed6d017534c9",
   "metadata": {},
   "outputs": [],
   "source": [
    "import sklearn\n",
    "import pandas as pd\n",
    "import seaborn as sns\n",
    "# IQR\n",
    "Q1 = np.percentile(df3['SALES'], 25,interpolation = 'midpoint')\n",
    "Q3 = np.percentile(df3['SALES'], 75,interpolation = 'midpoint')\n",
    "IQR = Q3 - Q1\n",
    "print(\"Old Shape: \", df3.shape)\n"
   ]
  }
 ],
 "metadata": {
  "kernelspec": {
   "display_name": "Python 3 (ipykernel)",
   "language": "python",
   "name": "python3"
  },
  "language_info": {
   "codemirror_mode": {
    "name": "ipython",
    "version": 3
   },
   "file_extension": ".py",
   "mimetype": "text/x-python",
   "name": "python",
   "nbconvert_exporter": "python",
   "pygments_lexer": "ipython3",
   "version": "3.12.4"
  }
 },
 "nbformat": 4,
 "nbformat_minor": 5
}
