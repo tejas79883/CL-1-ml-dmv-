{
 "cells": [
  {
   "cell_type": "code",
   "execution_count": 1,
   "id": "3c465a05-0835-4a2b-9942-0154ac13bcbb",
   "metadata": {},
   "outputs": [
    {
     "ename": "IndentationError",
     "evalue": "unexpected indent (941053760.py, line 2)",
     "output_type": "error",
     "traceback": [
      "\u001b[1;36m  Cell \u001b[1;32mIn[1], line 2\u001b[1;36m\u001b[0m\n\u001b[1;33m    import pandas as pd\u001b[0m\n\u001b[1;37m    ^\u001b[0m\n\u001b[1;31mIndentationError\u001b[0m\u001b[1;31m:\u001b[0m unexpected indent\n"
     ]
    }
   ],
   "source": [
    "import numpy as np\n",
    " import pandas as pd\n",
    " import matplotlib.pyplot as plt\n",
    " import seaborn as sns\n",
    " from sklearn.impute import SimpleImputer\n",
    " %matplotlib inline"
   ]
  },
  {
   "cell_type": "code",
   "execution_count": 3,
   "id": "58651677-737f-4a71-a586-210816191e9b",
   "metadata": {},
   "outputs": [
    {
     "ename": "SyntaxError",
     "evalue": "'(' was never closed (524210766.py, line 1)",
     "output_type": "error",
     "traceback": [
      "\u001b[1;36m  Cell \u001b[1;32mIn[3], line 1\u001b[1;36m\u001b[0m\n\u001b[1;33m    aqi = pd.read_csv(\"City_Air_Quality.csv\", encoding = \"ISO-8859-1\", parse_dat\u001b[0m\n\u001b[1;37m                     ^\u001b[0m\n\u001b[1;31mSyntaxError\u001b[0m\u001b[1;31m:\u001b[0m '(' was never closed\n"
     ]
    }
   ],
   "source": [
    "aqi = pd.read_csv(\"City_Air_Quality.csv\", encoding = \"ISO-8859-1\", parse_dat\n",
    " aqi.head()"
   ]
  },
  {
   "cell_type": "code",
   "execution_count": 5,
   "id": "8e34893e-f8a6-4080-bade-7f7baead3d0a",
   "metadata": {},
   "outputs": [
    {
     "ename": "NameError",
     "evalue": "name 'sns' is not defined",
     "output_type": "error",
     "traceback": [
      "\u001b[1;31m---------------------------------------------------------------------------\u001b[0m",
      "\u001b[1;31mNameError\u001b[0m                                 Traceback (most recent call last)",
      "Cell \u001b[1;32mIn[5], line 1\u001b[0m\n\u001b[1;32m----> 1\u001b[0m sns\u001b[38;5;241m.\u001b[39mset(style\u001b[38;5;241m=\u001b[39m\u001b[38;5;124m\"\u001b[39m\u001b[38;5;124mticks\u001b[39m\u001b[38;5;124m\"\u001b[39m, rc \u001b[38;5;241m=\u001b[39m {\u001b[38;5;124m'\u001b[39m\u001b[38;5;124mfigure.figsize\u001b[39m\u001b[38;5;124m'\u001b[39m:(\u001b[38;5;241m20\u001b[39m,\u001b[38;5;241m15\u001b[39m)})\n\u001b[0;32m      2\u001b[0m \u001b[38;5;66;03m# Supressing update warnings\u001b[39;00m\n\u001b[0;32m      3\u001b[0m \u001b[38;5;28;01mimport\u001b[39;00m \u001b[38;5;21;01mwarnings\u001b[39;00m\n",
      "\u001b[1;31mNameError\u001b[0m: name 'sns' is not defined"
     ]
    }
   ],
   "source": [
    " sns.set(style=\"ticks\", rc = {'figure.figsize':(20,15)})\n",
    " # Supressing update warnings\n",
    " import warnings\n",
    " warnings.filterwarnings('ignore')"
   ]
  },
  {
   "cell_type": "code",
   "execution_count": 7,
   "id": "2ac2633b-e32e-4a2c-891c-1425d80e2fa2",
   "metadata": {},
   "outputs": [
    {
     "ename": "NameError",
     "evalue": "name 'aqi' is not defined",
     "output_type": "error",
     "traceback": [
      "\u001b[1;31m---------------------------------------------------------------------------\u001b[0m",
      "\u001b[1;31mNameError\u001b[0m                                 Traceback (most recent call last)",
      "Cell \u001b[1;32mIn[7], line 2\u001b[0m\n\u001b[0;32m      1\u001b[0m \u001b[38;5;66;03m# checking the original dataset\u001b[39;00m\n\u001b[1;32m----> 2\u001b[0m \u001b[38;5;28mprint\u001b[39m(aqi\u001b[38;5;241m.\u001b[39misnull()\u001b[38;5;241m.\u001b[39msum())\n\u001b[0;32m      3\u001b[0m \u001b[38;5;28mprint\u001b[39m(aqi\u001b[38;5;241m.\u001b[39mshape)\n\u001b[0;32m      4\u001b[0m aqi\u001b[38;5;241m.\u001b[39minfo()\n",
      "\u001b[1;31mNameError\u001b[0m: name 'aqi' is not defined"
     ]
    }
   ],
   "source": [
    " # checking the original dataset\n",
    " print(aqi.isnull().sum())\n",
    " print(aqi.shape)\n",
    " aqi.info()"
   ]
  },
  {
   "cell_type": "code",
   "execution_count": 9,
   "id": "3749aeee-98a3-46f1-a473-6b4e1389087d",
   "metadata": {},
   "outputs": [
    {
     "ename": "IndentationError",
     "evalue": "unexpected indent (3793952418.py, line 2)",
     "output_type": "error",
     "traceback": [
      "\u001b[1;36m  Cell \u001b[1;32mIn[9], line 2\u001b[1;36m\u001b[0m\n\u001b[1;33m    aqi.drop(['stn_code', 'agency', 'sampling_date', 'location_monitoring_statio\u001b[0m\n\u001b[1;37m    ^\u001b[0m\n\u001b[1;31mIndentationError\u001b[0m\u001b[1;31m:\u001b[0m unexpected indent\n"
     ]
    }
   ],
   "source": [
    "# Cleaning up the data\n",
    " aqi.drop(['stn_code', 'agency', 'sampling_date', 'location_monitoring_statio\n",
    " aqi = aqi.dropna(subset=['date']) # dropping rows where no date is available\n",
    " # cleaning up name changes\n",
    " aqi.state = aqi.state.replace({'Uttaranchal':'Uttarakhand'})\n",
    " aqi.state[aqi.location == \"Jamshedpur\"] = aqi.state[aqi.location == 'Jamshed\n",
    " #changing types to uniform format\n",
    " types = {\n",
    " \"Residential\": \"R\",\n",
    " \"Residential and others\": \"RO\",\n",
    " \"Residential, Rural and other Areas\": \"RRO\",\n",
    " \"Industrial Area\": \"I\",\n",
    " \"Industrial Areas\": \"I\",\n",
    " \"Industrial\": \"I\",\n",
    " \"Sensitive Area\": \"S\",\n",
    " \"Sensitive Areas\": \"S\",\n",
    " \"Sensitive\": \"S\",\n",
    " np.nan: \"RRO\"\n",
    " }\n",
    " aqi.type = aqi.type.replace(types)"
   ]
  },
  {
   "cell_type": "code",
   "execution_count": 11,
   "id": "1e0d45ec-d88a-48c8-b66a-f95622c31009",
   "metadata": {},
   "outputs": [
    {
     "ename": "NameError",
     "evalue": "name 'aqi' is not defined",
     "output_type": "error",
     "traceback": [
      "\u001b[1;31m---------------------------------------------------------------------------\u001b[0m",
      "\u001b[1;31mNameError\u001b[0m                                 Traceback (most recent call last)",
      "Cell \u001b[1;32mIn[11], line 1\u001b[0m\n\u001b[1;32m----> 1\u001b[0m aqi\u001b[38;5;241m.\u001b[39mhead()\n",
      "\u001b[1;31mNameError\u001b[0m: name 'aqi' is not defined"
     ]
    }
   ],
   "source": [
    "aqi.head()"
   ]
  },
  {
   "cell_type": "code",
   "execution_count": 13,
   "id": "35309151-09fd-4026-9b93-a07ae45421b0",
   "metadata": {},
   "outputs": [],
   "source": [
    " # defining columns of importance, which shall be used reguarly\n",
    " VALUE_COLS = ['so2', 'no2', 'rspm', 'spm', 'pm2_5']"
   ]
  },
  {
   "cell_type": "code",
   "execution_count": 15,
   "id": "373ac3b3-593c-4163-9454-347660d5daa1",
   "metadata": {},
   "outputs": [
    {
     "ename": "IndentationError",
     "evalue": "unexpected indent (3320127575.py, line 2)",
     "output_type": "error",
     "traceback": [
      "\u001b[1;36m  Cell \u001b[1;32mIn[15], line 2\u001b[1;36m\u001b[0m\n\u001b[1;33m    imputer = SimpleImputer(missing_values=np.nan, strategy='mean')\u001b[0m\n\u001b[1;37m    ^\u001b[0m\n\u001b[1;31mIndentationError\u001b[0m\u001b[1;31m:\u001b[0m unexpected indent\n"
     ]
    }
   ],
   "source": [
    "# invoking SimpleImputer to fill missing values\n",
    " imputer = SimpleImputer(missing_values=np.nan, strategy='mean')\n",
    " aqi[VALUE_COLS] = imputer.fit_transform(aqi[VALUE_COLS])"
   ]
  },
  {
   "cell_type": "code",
   "execution_count": 17,
   "id": "c51d3678-ee7f-4fa2-bc9b-7066813cbafe",
   "metadata": {},
   "outputs": [
    {
     "ename": "IndentationError",
     "evalue": "unexpected indent (1893016672.py, line 2)",
     "output_type": "error",
     "traceback": [
      "\u001b[1;36m  Cell \u001b[1;32mIn[17], line 2\u001b[1;36m\u001b[0m\n\u001b[1;33m    print(aqi.isnull().sum())\u001b[0m\n\u001b[1;37m    ^\u001b[0m\n\u001b[1;31mIndentationError\u001b[0m\u001b[1;31m:\u001b[0m unexpected indent\n"
     ]
    }
   ],
   "source": [
    "# checking to see if the dataset has any null values left over and the forma\n",
    " print(aqi.isnull().sum())\n",
    " aqi.tail()"
   ]
  },
  {
   "cell_type": "code",
   "execution_count": 19,
   "id": "2d5a57c6-176b-47eb-8664-5cb5e97d13c8",
   "metadata": {},
   "outputs": [
    {
     "ename": "IndentationError",
     "evalue": "unexpected indent (443593215.py, line 4)",
     "output_type": "error",
     "traceback": [
      "\u001b[1;36m  Cell \u001b[1;32mIn[19], line 4\u001b[1;36m\u001b[0m\n\u001b[1;33m    def plot_for_state(state):\u001b[0m\n\u001b[1;37m    ^\u001b[0m\n\u001b[1;31mIndentationError\u001b[0m\u001b[1;31m:\u001b[0m unexpected indent\n"
     ]
    }
   ],
   "source": [
    "# defining a function that plots SO2, NO2, RSPM and SPM yearly average level\n",
    " # since data is available monthly, it was resampled to a year and averaged t\n",
    " # years for which no data was collected has not been imputed\n",
    " def plot_for_state(state):\n",
    " fig, ax = plt.subplots(2,2, figsize=(20,12))\n",
    " fig.suptitle(state, size=20)\n",
    " state = aqi[aqi.state == state]\n",
    " state = state.reset_index().set_index('date')[VALUE_COLS].resample('Y').\n",
    " state.so2.plot(legend=True, ax=ax[0][0], title=\"so2\")\n",
    " ax[0][0].set_ylabel(\"so2 (µg/m3)\")\n",
    " ax[0][0].set_xlabel(\"Year\")\n",
    " state.no2.plot(legend=True, ax=ax[0][1], title=\"no2\")\n",
    " ax[0][1].set_ylabel(\"no2 (µg/m3)\")\n",
    " ax[0][1].set_xlabel(\"Year\")\n",
    " state.rspm.plot(legend=True, ax=ax[1][0], title=\"rspm\")\n",
    " ax[1][0].set_ylabel(\"RSPM (PM10 µg/m3)\")\n",
    " ax[1][0].set_xlabel(\"Year\")\n",
    " state.spm.plot(legend=True, ax=ax[1][1], title=\"spm\")\n",
    " ax[1][1].set_ylabel(\"SPM (PM10 µg/m3)\")\n",
    " ax[1][1].set_xlabel(\"Year\")"
   ]
  },
  {
   "cell_type": "code",
   "execution_count": 21,
   "id": "8aaf0b25-eaf6-4be1-badc-e5dc643a60eb",
   "metadata": {},
   "outputs": [
    {
     "ename": "NameError",
     "evalue": "name 'plot_for_state' is not defined",
     "output_type": "error",
     "traceback": [
      "\u001b[1;31m---------------------------------------------------------------------------\u001b[0m",
      "\u001b[1;31mNameError\u001b[0m                                 Traceback (most recent call last)",
      "Cell \u001b[1;32mIn[21], line 1\u001b[0m\n\u001b[1;32m----> 1\u001b[0m plot_for_state(\u001b[38;5;124m\"\u001b[39m\u001b[38;5;124mUttar Pradesh\u001b[39m\u001b[38;5;124m\"\u001b[39m)\n",
      "\u001b[1;31mNameError\u001b[0m: name 'plot_for_state' is not defined"
     ]
    }
   ],
   "source": [
    "plot_for_state(\"Uttar Pradesh\")"
   ]
  },
  {
   "cell_type": "code",
   "execution_count": 23,
   "id": "73f80e9b-6bb0-4c09-a1e5-d8e9e88ff49c",
   "metadata": {},
   "outputs": [
    {
     "ename": "IndentationError",
     "evalue": "expected an indented block after function definition on line 2 (291470302.py, line 3)",
     "output_type": "error",
     "traceback": [
      "\u001b[1;36m  Cell \u001b[1;32mIn[23], line 3\u001b[1;36m\u001b[0m\n\u001b[1;33m    fig, ax = plt.subplots(2,1, figsize=(20, 12))\u001b[0m\n\u001b[1;37m    ^\u001b[0m\n\u001b[1;31mIndentationError\u001b[0m\u001b[1;31m:\u001b[0m expected an indented block after function definition on line 2\n"
     ]
    }
   ],
   "source": [
    " # defining a function to find and plot the top 10 and bottom 10 states for a\n",
    " def top_and_bottom_10_states(indicator=\"so2\"):\n",
    " fig, ax = plt.subplots(2,1, figsize=(20, 12))\n",
    " ind = aqi[[indicator, 'state']].groupby('state', as_index=False).median(\n",
    " top10 = sns.barplot(x='state', y=indicator, data=ind[:10], ax=ax[0], col\n",
    " top10.set_title(\"Top 10 states by {} (1991-2016)\".format(indicator))\n",
    " top10.set_ylabel(\"so2 (µg/m3)\")\n",
    " top10.set_xlabel(\"State\")\n",
    " bottom10 = sns.barplot(x='state', y=indicator, data=ind[-10:], ax=ax[1],\n",
    " bottom10.set_title(\"Bottom 10 states by {} (1991-2016)\".format(indicator\n",
    " bottom10.set_ylabel(\"so2 (µg/m3)\")\n",
    " bottom10.set_xlabel(\"State\")"
   ]
  },
  {
   "cell_type": "code",
   "execution_count": 25,
   "id": "d9680273-8e43-4ec7-bfec-0d2f8fcb2cd5",
   "metadata": {},
   "outputs": [
    {
     "ename": "IndentationError",
     "evalue": "unexpected indent (4117697395.py, line 2)",
     "output_type": "error",
     "traceback": [
      "\u001b[1;36m  Cell \u001b[1;32mIn[25], line 2\u001b[1;36m\u001b[0m\n\u001b[1;33m    top_and_bottom_10_states(\"no2\")\u001b[0m\n\u001b[1;37m    ^\u001b[0m\n\u001b[1;31mIndentationError\u001b[0m\u001b[1;31m:\u001b[0m unexpected indent\n"
     ]
    }
   ],
   "source": [
    "top_and_bottom_10_states(\"so2\")\n",
    " top_and_bottom_10_states(\"no2\")"
   ]
  },
  {
   "cell_type": "code",
   "execution_count": 27,
   "id": "586ad118-df13-494f-b5a8-88baadd786f4",
   "metadata": {},
   "outputs": [
    {
     "ename": "IndentationError",
     "evalue": "unexpected indent (60517712.py, line 3)",
     "output_type": "error",
     "traceback": [
      "\u001b[1;36m  Cell \u001b[1;32mIn[27], line 3\u001b[1;36m\u001b[0m\n\u001b[1;33m    def highest_levels_recorded(indicator=\"so2\"):\u001b[0m\n\u001b[1;37m    ^\u001b[0m\n\u001b[1;31mIndentationError\u001b[0m\u001b[1;31m:\u001b[0m unexpected indent\n"
     ]
    }
   ],
   "source": [
    "# defining a function to find the highest ever recorded levels for a given i\n",
    " # sidenote: mostly outliers\n",
    " def highest_levels_recorded(indicator=\"so2\"):\n",
    " plt.figure(figsize=(20,10))\n",
    " ind = aqi[[indicator, 'location', 'state', 'date']].groupby('state', as_\n",
    " highest = sns.barplot(x='state', y=indicator, data=ind)\n",
    " highest.set_title(\"Highest ever {} levels recorded by state\".format(indi\n",
    " plt.xticks(rotation=90)"
   ]
  },
  {
   "cell_type": "code",
   "execution_count": 29,
   "id": "c4518e08-e411-4743-9ca7-fa88ed5d385a",
   "metadata": {},
   "outputs": [
    {
     "ename": "IndentationError",
     "evalue": "unexpected indent (1229152679.py, line 2)",
     "output_type": "error",
     "traceback": [
      "\u001b[1;36m  Cell \u001b[1;32mIn[29], line 2\u001b[1;36m\u001b[0m\n\u001b[1;33m    highest_levels_recorded(\"rspm\")\u001b[0m\n\u001b[1;37m    ^\u001b[0m\n\u001b[1;31mIndentationError\u001b[0m\u001b[1;31m:\u001b[0m unexpected indent\n"
     ]
    }
   ],
   "source": [
    "highest_levels_recorded(\"no2\")\n",
    " highest_levels_recorded(\"rspm\")"
   ]
  },
  {
   "cell_type": "code",
   "execution_count": null,
   "id": "0d4659bd-e387-4875-8a3c-0fa473a435cd",
   "metadata": {},
   "outputs": [],
   "source": [
    "# defining a function to plot the yearly trend values for a given indicator \n",
    "def yearly_trend(state=\"\", indicator=\"so2\", ):\n",
    " plt.figure(figsize=(20,12))\n",
    " aqi['year'] = aqi.date.dt.year\n",
    " if state is \"\":\n",
    " year_wise = aqi[[indicator, 'year', 'state']].groupby('year', as_ind\n",
    " trend = sns.pointplot(x='year', y=indicator, data=year_wise)\n",
    " trend.set_title('Yearly trend of {}'.format(indicator))\n",
    " else:\n",
    " year_wise = aqi[[indicator, 'year', 'state']].groupby(['state','year\n",
    " trend = sns.pointplot(x='year', y=indicator, data=year_wise)\n",
    " trend.set_title('Yearly trend of {} for {}'.format(indicator, state)"
   ]
  },
  {
   "cell_type": "code",
   "execution_count": null,
   "id": "6e9f62e6-1a21-4e43-a442-78b5957127a1",
   "metadata": {},
   "outputs": [],
   "source": [
    "yearly_trend()\n",
    " yearly_trend(\"West Bengal\", \"no2\")"
   ]
  },
  {
   "cell_type": "code",
   "execution_count": null,
   "id": "c1a45fcb-c4d9-45ac-9c10-648d0aecab3a",
   "metadata": {},
   "outputs": [],
   "source": [
    "# defining a function to plot a heatmap for yearly median average for a give\n",
    " def indicator_by_state_and_year(indicator=\"so2\"):\n",
    " plt.figure(figsize=(20, 20))\n",
    " hmap = sns.heatmap(\n",
    " data=aqi.pivot_table(values=indicator, index='state', columns='year'\n",
    " annot=True, linewidths=.5, cbar=True, square=True, cmap='infe\n",
    " hmap.set_title(\"{} by state and year\".format(indicator))"
   ]
  },
  {
   "cell_type": "code",
   "execution_count": null,
   "id": "b796944f-cb70-4d5d-995f-6fe6b2559540",
   "metadata": {},
   "outputs": [],
   "source": [
    "indicator_by_state_and_year('no2')"
   ]
  },
  {
   "cell_type": "code",
   "execution_count": null,
   "id": "357e6423-7afd-4c56-8816-8f8b94a2a7da",
   "metadata": {},
   "outputs": [],
   "source": [
    "# defining a function to plot pollutant averages by type for a given indicat\n",
    " def type_avg(indicator=\"\"):\n",
    " type_avg = aqi[VALUE_COLS + ['type', 'date']].groupby(\"type\").mean()\n",
    " if indicator is not \"\":\n",
    " t = type_avg[indicator].plot(kind='bar')\n",
    " plt.xticks(rotation = 0)\n",
    " plt.title(\"Pollutant average by type for {}\".format(indicator))\n",
    " else:\n",
    " t = type_avg.plot(kind='bar')\n",
    " plt.xticks(rotation = 0)\n",
    " plt.title(\"Pollutant average by type\")"
   ]
  },
  {
   "cell_type": "code",
   "execution_count": null,
   "id": "d98f6cdf-1f13-4f30-924f-f28dc67b17d8",
   "metadata": {},
   "outputs": [],
   "source": [
    "type_avg('so2')"
   ]
  },
  {
   "cell_type": "code",
   "execution_count": null,
   "id": "da365060-e321-42de-8354-6acd3883e918",
   "metadata": {},
   "outputs": [],
   "source": [
    " # defining a function to plot pollutant averages for a given indicator (defa\n",
    " def location_avgs(state, indicator=\"so2\"):\n",
    " locs = aqi[VALUE_COLS + ['state', 'location', 'date']].groupby(['state',\n",
    " state_avgs = locs.loc[state].reset_index()\n",
    " sns.barplot(x='location', y=indicator, data=state_avgs)\n",
    " plt.title(\"Location-wise average for {} in {}\".format(indicator, state))\n",
    " plt.xticks(rotation = 90)"
   ]
  },
  {
   "cell_type": "code",
   "execution_count": null,
   "id": "d519edea-2e6b-4b53-ab8b-a49dcfd369f1",
   "metadata": {},
   "outputs": [],
   "source": [
    "location_avgs(\"Uttar Pradesh\", \"no2\")"
   ]
  }
 ],
 "metadata": {
  "kernelspec": {
   "display_name": "Python 3 (ipykernel)",
   "language": "python",
   "name": "python3"
  },
  "language_info": {
   "codemirror_mode": {
    "name": "ipython",
    "version": 3
   },
   "file_extension": ".py",
   "mimetype": "text/x-python",
   "name": "python",
   "nbconvert_exporter": "python",
   "pygments_lexer": "ipython3",
   "version": "3.12.4"
  }
 },
 "nbformat": 4,
 "nbformat_minor": 5
}
