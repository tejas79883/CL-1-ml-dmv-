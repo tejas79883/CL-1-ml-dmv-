{
 "cells": [
  {
   "cell_type": "code",
   "execution_count": null,
   "id": "a5c3f6e0-6689-4df1-b75b-5454dd38afe0",
   "metadata": {},
   "outputs": [],
   "source": [
    "import pandas as pd #data manipulation\n",
    "import numpy as np #numerical computations\n",
    "from sklearn.model_selection import train_test_split # scikit-learn fo\n",
    "from sklearn import metrics #evaluating the performance of\n"
   ]
  },
  {
   "cell_type": "code",
   "execution_count": null,
   "id": "0c48e602-903b-46af-b7ec-c3ba61132e29",
   "metadata": {},
   "outputs": [],
   "source": [
    "data = pd.read_csv(\"Telecom_Customer_Churn.csv\")\n",
    "print(data.index)"
   ]
  },
  {
   "cell_type": "code",
   "execution_count": null,
   "id": "4de9bfdf-dda3-4964-a1a9-d4c069b2fdf5",
   "metadata": {},
   "outputs": [],
   "source": [
    "print(data)"
   ]
  },
  {
   "cell_type": "code",
   "execution_count": null,
   "id": "767d1d1b-bd42-4923-9837-00b07bd60a6b",
   "metadata": {},
   "outputs": [],
   "source": [
    "print(data.columns)\n"
   ]
  },
  {
   "cell_type": "code",
   "execution_count": null,
   "id": "b5509403-efc7-4af2-bd27-8694a5f592e6",
   "metadata": {},
   "outputs": [],
   "source": [
    "data.shape\n"
   ]
  },
  {
   "cell_type": "code",
   "execution_count": null,
   "id": "c8c9b0a0-6cf3-448c-b8fa-4a76a7da69c6",
   "metadata": {},
   "outputs": [],
   "source": [
    "print(data.head())\n"
   ]
  },
  {
   "cell_type": "code",
   "execution_count": null,
   "id": "25d5ab06-a8e3-4e37-9335-793f53954a7e",
   "metadata": {},
   "outputs": [],
   "source": [
    "print(data.tail())"
   ]
  },
  {
   "cell_type": "code",
   "execution_count": null,
   "id": "6877cfa8-1667-4710-af5f-7da1eb07d0b8",
   "metadata": {},
   "outputs": [],
   "source": [
    "# to know unique values\n",
    "data.nunique()"
   ]
  },
  {
   "cell_type": "code",
   "execution_count": null,
   "id": "f43ea4db-7967-48b4-8086-a0f09189a9da",
   "metadata": {},
   "outputs": [],
   "source": [
    "# data.isna().sum() is used to count the number of missing values (NaN values) in e\n",
    "data.isna().sum()"
   ]
  },
  {
   "cell_type": "code",
   "execution_count": null,
   "id": "9a9ef7d8-973e-407d-bfe9-f558b6389ba2",
   "metadata": {},
   "outputs": [],
   "source": [
    "# isna() and isnull() are essentially the same method in Pandas, and they both retu\n",
    "data.isnull().sum()\n"
   ]
  },
  {
   "cell_type": "code",
   "execution_count": null,
   "id": "4e0aa67c-c0ff-4a64-b37b-c7bf92f387f9",
   "metadata": {},
   "outputs": [],
   "source": [
    "# Check the number of rows before removing duplicates\n",
    "print(\"Number of rows before removing duplicates:\", len(data))"
   ]
  },
  {
   "cell_type": "code",
   "execution_count": null,
   "id": "9c393815-4479-4989-8a56-bed035b4b9e0",
   "metadata": {},
   "outputs": [],
   "source": [
    "# Remove duplicate records\n",
    "data_cleaned = data.drop_duplicates()"
   ]
  },
  {
   "cell_type": "code",
   "execution_count": null,
   "id": "70454136-4bca-4a39-b8df-f24bda8d22b3",
   "metadata": {},
   "outputs": [],
   "source": [
    "# Check the number of rows after removing duplicates\n",
    "print(\"Number of rows after removing duplicates:\", len(data_cleaned))\n"
   ]
  },
  {
   "cell_type": "code",
   "execution_count": null,
   "id": "d7ff2fa6-1485-48c3-a879-14ca02902ff4",
   "metadata": {},
   "outputs": [],
   "source": [
    "data.describe()\n"
   ]
  },
  {
   "cell_type": "code",
   "execution_count": null,
   "id": "a3fbe84a-2d0d-4162-8cbe-c46aed999f17",
   "metadata": {},
   "outputs": [],
   "source": [
    "#Measure of frequency destribution\n",
    "unique, counts = np.unique(data['tenure'], return_counts=True)\n",
    "print(unique, counts)\n"
   ]
  },
  {
   "cell_type": "code",
   "execution_count": null,
   "id": "0227ac05-d9dd-435f-9db3-066e899ee862",
   "metadata": {},
   "outputs": [],
   "source": [
    "#Measure of frequency destribution\n",
    "unique, counts = np.unique(data['MonthlyCharges'], return_counts=True)\n",
    "print(unique, counts)\n"
   ]
  },
  {
   "cell_type": "code",
   "execution_count": null,
   "id": "fd96b3c4-cf91-4d00-91f1-159518797bd2",
   "metadata": {},
   "outputs": [],
   "source": [
    "#Measure of frequency destribution\n",
    "unique, counts = np.unique(data['MonthlyCharges'], return_counts=True)\n",
    "print(unique, counts)\n"
   ]
  },
  {
   "cell_type": "code",
   "execution_count": null,
   "id": "ef6769ef-8c18-4b4f-a8bb-182c547ba0b6",
   "metadata": {},
   "outputs": [],
   "source": [
    "#Measure of frequency destribution\n",
    "unique, counts = np.unique(data['TotalCharges'], return_counts=True)\n",
    "print(unique, counts)\n"
   ]
  },
  {
   "cell_type": "code",
   "execution_count": null,
   "id": "a2edf1e2-c713-4321-ad15-74781db7ac2d",
   "metadata": {},
   "outputs": [],
   "source": [
    "# sns.pairplot(data) creates a grid of pairwise plots of the variables in a dataset\n",
    "import seaborn as sns #Seaborn library for data visualization\n",
    "sns.pairplot(data)\n"
   ]
  },
  {
   "cell_type": "code",
   "execution_count": 5,
   "id": "87af54cf-a298-4b3e-b9c5-d123d0d2fd8c",
   "metadata": {},
   "outputs": [
    {
     "ename": "NameError",
     "evalue": "name 'data' is not defined",
     "output_type": "error",
     "traceback": [
      "\u001b[1;31m---------------------------------------------------------------------------\u001b[0m",
      "\u001b[1;31mNameError\u001b[0m                                 Traceback (most recent call last)",
      "Cell \u001b[1;32mIn[5], line 3\u001b[0m\n\u001b[0;32m      1\u001b[0m \u001b[38;5;66;03m#checking boxplot for Fare column\u001b[39;00m\n\u001b[0;32m      2\u001b[0m \u001b[38;5;28;01mimport\u001b[39;00m \u001b[38;5;21;01mmatplotlib\u001b[39;00m\u001b[38;5;21;01m.\u001b[39;00m\u001b[38;5;21;01mpyplot\u001b[39;00m \u001b[38;5;28;01mas\u001b[39;00m \u001b[38;5;21;01mplt\u001b[39;00m \u001b[38;5;66;03m#pyplot module from the Matplotlib lib\u001b[39;00m\n\u001b[1;32m----> 3\u001b[0m plt\u001b[38;5;241m.\u001b[39mboxplot(data[\u001b[38;5;124m'\u001b[39m\u001b[38;5;124mtenure\u001b[39m\u001b[38;5;124m'\u001b[39m])\n\u001b[0;32m      4\u001b[0m plt\u001b[38;5;241m.\u001b[39mshow()\n",
      "\u001b[1;31mNameError\u001b[0m: name 'data' is not defined"
     ]
    }
   ],
   "source": [
    "#checking boxplot for Fare column\n",
    "import matplotlib.pyplot as plt #pyplot module from the Matplotlib lib\n",
    "plt.boxplot(data['tenure'])\n",
    "plt.show()"
   ]
  }
 ],
 "metadata": {
  "kernelspec": {
   "display_name": "Python 3 (ipykernel)",
   "language": "python",
   "name": "python3"
  },
  "language_info": {
   "codemirror_mode": {
    "name": "ipython",
    "version": 3
   },
   "file_extension": ".py",
   "mimetype": "text/x-python",
   "name": "python",
   "nbconvert_exporter": "python",
   "pygments_lexer": "ipython3",
   "version": "3.12.4"
  }
 },
 "nbformat": 4,
 "nbformat_minor": 5
}
